{
  "cells": [
    {
      "cell_type": "code",
      "execution_count": null,
      "metadata": {
        "id": "40152802"
      },
      "outputs": [],
      "source": [
        "import os\n",
        "import pandas as pd\n",
        "import seaborn as sns\n",
        "import missingno as msno\n",
        "import matplotlib.pyplot as plt\n",
        "import numpy as np\n",
        "import scipy as sc\n",
        "from sklearn.decomposition import PCA\n",
        "from sklearn.feature_selection import SelectKBest, f_classif\n",
        "from sklearn.feature_selection import VarianceThreshold\n",
        "from sklearn.metrics import roc_curve, roc_auc_score\n",
        "from sklearn.ensemble import RandomForestClassifier\n",
        "from sklearn.model_selection import train_test_split, cross_val_score, GridSearchCV\n",
        "from sklearn.model_selection import StratifiedShuffleSplit\n",
        "from sklearn.ensemble import VotingClassifier, BaggingClassifier, AdaBoostClassifier, GradientBoostingClassifier\n",
        "from sklearn.tree import DecisionTreeClassifier\n",
        "from xgboost import XGBClassifier\n",
        "from lightgbm import LGBMClassifier\n",
        "import warnings\n",
        "from sklearn.preprocessing import MinMaxScaler\n",
        "from sklearn.linear_model import LogisticRegression\n",
        "warnings.filterwarnings(\"ignore\")\n",
        "%matplotlib inline\n",
        "\n",
        "\n",
        "df = pd.read_csv(\"/content/TrainingWiDS2021.csv\")\n",
        "df_cols = pd.read_csv(\"/content/DataDictionaryWiDS2021.csv\")\n",
        "df.drop(columns = 'Unnamed: 0', inplace = True)"
      ],
      "id": "40152802"
    },
    {
      "cell_type": "markdown",
      "metadata": {
        "id": "986031a1"
      },
      "source": [
        "# WiDS Datathon 2021"
      ],
      "id": "986031a1"
    },
    {
      "cell_type": "markdown",
      "metadata": {
        "id": "6a0eb92d"
      },
      "source": [
        "* https://www.kaggle.com/c/widsdatathon2021/data?select=TrainingWiDS2021.csv\n",
        "* https://he.wikipedia.org/wiki/%D7%A1%D7%95%D7%9B%D7%A8%D7%AA\n",
        "* https://www.health.gov.il/PublicationsFiles/diabetes_registry_report_2019.pdf"
      ],
      "id": "6a0eb92d"
    },
    {
      "cell_type": "markdown",
      "metadata": {
        "id": "2e00708e"
      },
      "source": [
        "## Overview\n",
        "This year's challenge will focus on models to determine whether a patient admitted to an ICU has been diagnosed with a particular type of diabetes, Diabetes Mellitus. Using data from the first 24 hours of intensive care, individuals and teams will explore labeled training data for model development. Participants will then upload predictions for unlabeled data to Kaggle and these predictions will be used to determine the public leaderboard rankings, as well as the final leaderboard revealed at the close of the competition.\n",
        "\n",
        "Data analysis can be completed using your preferred tools. Tutorials, sample code, and other resources will be posted throughout the competition at widsconference.org/datathon-resources and on the Kaggle Discussion Forum.\n",
        "\n",
        "The WiDS Datathon 2021 dataset is similar to the WiDS Datathon 2020 dataset, but prior experience is not needed. This year's WiDS Datathon will also feature a Phase 2 hosted by the National Science Foundation Big Data Innovation Hubs, to encourage research papers and further collaboration. Special thanks to Kaggle for supporting the suite of WiDS Datathon cash awards this year, totaling $10,000 USD"
      ],
      "id": "2e00708e"
    },
    {
      "cell_type": "markdown",
      "metadata": {
        "id": "bc343169"
      },
      "source": [
        "## Evaluation\n",
        "Submissions for the leaderboard will be evaluated on the Area under the Receiver Operating Characteristic (ROC) curve between the predicted and the observed target (diabetes_mellitus_diagnosis).\n",
        "\n",
        "Learn more about AUC in this developer crash course, this video, or this Kaggle Learn Forum post.\n",
        "\n",
        "Submission Format\n",
        "For each encounter_id in the test dataset, you are asked to explore the columns of data (for example, patient laboratory results, demographics, and vital signs) and create a model that classifies whether the ICU patient has been diagnosed with Diabetes Mellitus.\n",
        "\n",
        "A diabetes_mellitus value of 1 corresponds to a positive diagnosis (i.e., the patient has been diagnosed to have Diabetes Mellitus) and a value of 0 corresponds to a negative diagnosis."
      ],
      "id": "bc343169"
    },
    {
      "cell_type": "markdown",
      "metadata": {
        "id": "76647f3a"
      },
      "source": [
        "# EDA"
      ],
      "id": "76647f3a"
    },
    {
      "cell_type": "code",
      "execution_count": null,
      "metadata": {
        "colab": {
          "base_uri": "https://localhost:8080/"
        },
        "id": "e226a5bf",
        "outputId": "1c1cbb79-54ef-43c6-889c-a3cb35f63347"
      },
      "outputs": [
        {
          "output_type": "stream",
          "name": "stdout",
          "text": [
            "train shape: (130157, 180), dict shape: (181, 6)\n"
          ]
        }
      ],
      "source": [
        "df_diabetes = pd.read_csv('TrainingWiDS2021.csv', index_col=0)\n",
        "df_diabetes.reset_index(drop=True, inplace=True)\n",
        "df_dic = pd.read_csv('DataDictionaryWiDS2021.csv')\n",
        "print(f'train shape: {df_diabetes.shape}, dict shape: {df_dic.shape}')"
      ],
      "id": "e226a5bf"
    },
    {
      "cell_type": "markdown",
      "metadata": {
        "id": "708ab194"
      },
      "source": [
        "## cleaning/fixing the data and feature selection"
      ],
      "id": "708ab194"
    },
    {
      "cell_type": "code",
      "execution_count": null,
      "metadata": {
        "id": "ade6dedc"
      },
      "outputs": [],
      "source": [
        "def data_cleaning(threshold = 0.2):\n",
        "\n",
        "    # fix bmi column\n",
        "    df_diabetes['bmi'] = round(10000 * df_diabetes['weight'] / (df_diabetes['height'] ** 2), 8)\n",
        "    mask_lst= []\n",
        "    for i in range(len(df_diabetes)):\n",
        "        mask_lst.append(round(10000*df_diabetes.weight[i] / (df_diabetes.height[i]**2), str(df_diabetes.bmi[i])[::-1].find('.')) == df_diabetes.bmi[i])\n",
        "\n",
        "    # drop columns with more na values than threshold \n",
        "    threshold = threshold\n",
        "    col_to_be_drop = (df_diabetes.isnull().sum() / df_diabetes.shape[0] <= threshold) \\\n",
        "    [~(df_diabetes.isnull().sum() / df_diabetes.shape[0] <= threshold)].index\n",
        "    print(f'number of columns to drop: {len(col_to_be_drop)}')\n",
        "    df_diabetes.drop(columns=col_to_be_drop, inplace=True)\n",
        "    print(f'train shape: {df_diabetes.shape}')\n",
        "    \n",
        "        # look at\n",
        "    look_at_lst = ['d1_hco3_max', 'd1_hco3_max',  'd1_platelets_min', 'd1_platelets_max',  'd1_calcium_max',\n",
        "     'd1_calcium_min', 'd1_hemaglobin_max','d1_hemaglobin_min','d1_potassium_min', 'h1_diasbp_noninvasive_min','h1_diasbp_noninvasive_max','h1_sysbp_noninvasive_min',\n",
        "     'h1_sysbp_noninvasive_max','h1_spo2_max','h1_spo2_min', 'pre_icu_los_days']\n",
        "    fintuning_drop = ['bun_apache','creatinine_apache','sodium_apache', 'd1_wbc_max','d1_wbc_min','d1_hematocrit_max',\n",
        "     'd1_hematocrit_min','h1_mbp_noninvasive_min','h1_mbp_noninvasive_max','d1_creatinine_min',\n",
        "     'd1_creatinine_max','d1_sodium_min','d1_sodium_max','temp_apache','h1_mbp_min','h1_mbp_max',\n",
        "     'h1_resprate_max','h1_resprate_min','h1_diasbp_max','h1_diasbp_min','h1_sysbp_min','h1_sysbp_max','d1_temp_min',\n",
        "     'd1_temp_max','h1_heartrate_max','h1_heartrate_min','weight','d1_mbp_noninvasive_min','d1_mbp_noninvasive_max','gcs_motor_apache',\n",
        "     'gcs_eyes_apache','gcs_verbal_apache','height','d1_diasbp_noninvasive_min','d1_diasbp_noninvasive_max',\n",
        "     'd1_sysbp_noninvasive_min','d1_sysbp_noninvasive_max','apache_3j_diagnosis','resprate_apache','gcs_unable_apache',\n",
        "     'd1_resprate_min','d1_resprate_max','d1_spo2_min','d1_spo2_max','map_apache','d1_mbp_max','d1_mbp_min',\n",
        "     'heart_rate_apache','d1_diasbp_max','d1_diasbp_min','d1_sysbp_min','d1_sysbp_max','d1_heartrate_max','d1_heartrate_min',\n",
        "     'icu_admit_source','aids','cirrhosis','hepatic_failure','immunosuppression',\n",
        "     'leukemia','lymphoma','solid_tumor_with_metastasis','encounter_id','hospital_id','ventilated_apache','intubated_apache',\n",
        "     'arf_apache','apache_post_operative','readmission_status','icu_stay_type','icu_id','elective_surgery','glucose_apache','d1_hco3_min']\n",
        "    fintuning_drop = fintuning_drop + look_at_lst\n",
        "\n",
        "    #stay\n",
        "    stay_lst = ['d1_glucose_max','d1_glucose_min','age','bmi','apache_2_diagnosis', 'ethnicity', 'gender',\n",
        "     'icu_type', 'diabetes_mellitus', 'd1_bun_max',  'd1_potassium_max']\n",
        "    \n",
        "    print(f'number of columns to drop: {len(fintuning_drop)}')\n",
        "    df_diabetes.drop(columns=fintuning_drop, inplace=True)\n",
        "    print(f'train shape: {df_diabetes.shape}')\n",
        "    print(df_diabetes.shape)\n",
        "    df_diabetes.loc[df_diabetes.ethnicity.isnull(),'ethnicity'] = 'Other/Unknown'\n",
        "    df_diabetes.dropna(inplace=True)\n",
        "    print(df_diabetes.shape)\n",
        "    \n",
        "    # replace values where min > max\n",
        "    glucos_min = df_diabetes[df_diabetes['d1_glucose_max'] < df_diabetes['d1_glucose_min']]['d1_glucose_min'].values[0]\n",
        "    glucose_index = df_diabetes[df_diabetes['d1_glucose_max'] < df_diabetes['d1_glucose_min']]['d1_glucose_min'].index\n",
        "    glucos_max = df_diabetes.loc[glucose_index, 'd1_glucose_max'].values[0]\n",
        "    df_diabetes.loc[glucose_index, 'd1_glucose_min'] = glucos_max\n",
        "    df_diabetes.loc[glucose_index, 'd1_glucose_max'] = glucos_min\n",
        "    \n",
        "    bun_min = df_diabetes[df_diabetes['d1_bun_max'] < df_diabetes['d1_bun_min']]['d1_bun_min'].values\n",
        "    bun_index = df_diabetes[df_diabetes['d1_bun_max'] < df_diabetes['d1_bun_min']]['d1_bun_min'].index\n",
        "    bun_max = df_diabetes.loc[bun_index, 'd1_bun_max'].values\n",
        "#     print(bun_min)\n",
        "#     print(bun_index)\n",
        "#     print(bun_max)\n",
        "    df_diabetes.loc[bun_index, 'd1_bun_min'] = bun_max\n",
        "    df_diabetes.loc[bun_index, 'd1_bun_max'] = bun_min"
      ],
      "id": "ade6dedc"
    },
    {
      "cell_type": "code",
      "execution_count": null,
      "metadata": {
        "colab": {
          "base_uri": "https://localhost:8080/"
        },
        "id": "b3246723",
        "outputId": "75b2af3d-154f-4b54-d421-9f24b3034ffa",
        "scrolled": true
      },
      "outputs": [
        {
          "output_type": "stream",
          "name": "stdout",
          "text": [
            "number of columns to drop: 79\n",
            "train shape: (130157, 101)\n",
            "number of columns to drop: 90\n",
            "train shape: (130157, 12)\n",
            "(130157, 12)\n",
            "(106667, 12)\n"
          ]
        }
      ],
      "source": [
        "data_cleaning()"
      ],
      "id": "b3246723"
    },
    {
      "cell_type": "code",
      "execution_count": null,
      "metadata": {
        "id": "4w70V9jhKvpV"
      },
      "outputs": [],
      "source": [
        "def data_cleaning_outliers(df_diabetes):\n",
        "    print(df_diabetes.shape)\n",
        "    # removing age = 0.0 \n",
        "    df_diabetes = df_diabetes[~(df_diabetes['age']==0)]\n",
        "    # claening with Z value\n",
        "    numeric_col = list(df_diabetes.select_dtypes(include=['float64', 'int64']).columns)\n",
        "    numeric_col.remove('apache_2_diagnosis')\n",
        "    numeric_col.remove('age')\n",
        "    numeric_col.remove('diabetes_mellitus')\n",
        "    df_diabetes = df_diabetes[(np.abs(sc.stats.zscore(df_diabetes[numeric_col])) < 3).all(axis=1)]\n",
        "\n",
        "    # another option of cleaning is with IQR value\n",
        "    # Q1 = df_diabetes[numeric_col_remove_from].quantile(0.25)\n",
        "    # Q3 = df_diabetes[numeric_col_remove_from].quantile(0.75)\n",
        "    # IQR = Q3 - Q1\n",
        "    # len(df_diabetes) - len(df_diabetes[((df_diabetes[numeric_col_remove_from] >= (Q1 - 1.5 * IQR)) & (df_diabetes[numeric_col_remove_from] <= (Q3 + 1.5 * IQR))).all(axis=1)])\n",
        "\n",
        "    print(df_diabetes.shape)\n",
        "    return df_diabetes.copy()"
      ],
      "id": "4w70V9jhKvpV"
    },
    {
      "cell_type": "code",
      "execution_count": null,
      "metadata": {
        "colab": {
          "base_uri": "https://localhost:8080/"
        },
        "id": "qt8udJ6MJFjF",
        "outputId": "e2a697c4-515d-4122-c07e-3412e8c03ab8"
      },
      "outputs": [
        {
          "output_type": "stream",
          "name": "stdout",
          "text": [
            "(106667, 12)\n",
            "(97117, 12)\n"
          ]
        },
        {
          "output_type": "execute_result",
          "data": {
            "text/plain": [
              "     age        bmi      ethnicity gender      icu_type  apache_2_diagnosis  \\\n",
              "0   68.0  22.732803      Caucasian      M         CTICU               113.0   \n",
              "1   77.0  27.421875      Caucasian      F  Med-Surg ICU               108.0   \n",
              "5   67.0  27.555611      Caucasian      M  Med-Surg ICU               301.0   \n",
              "9   50.0  25.707702  Other/Unknown      M     CCU-CTICU               112.0   \n",
              "10  72.0  28.257052       Hispanic      F  Med-Surg ICU               303.0   \n",
              "\n",
              "    d1_bun_max  d1_bun_min  d1_glucose_max  d1_glucose_min  d1_potassium_max  \\\n",
              "0         31.0        30.0           168.0           109.0               4.0   \n",
              "1         11.0         9.0           145.0           128.0               4.2   \n",
              "5         13.0        13.0           156.0           125.0               3.9   \n",
              "9         10.0        10.0           134.0           134.0               4.1   \n",
              "10        14.0        14.0           158.0           133.0               4.2   \n",
              "\n",
              "    diabetes_mellitus  \n",
              "0                   1  \n",
              "1                   1  \n",
              "5                   1  \n",
              "9                   0  \n",
              "10                  0  "
            ],
            "text/html": [
              "\n",
              "  <div id=\"df-fa15c8a9-da94-4cc3-9da4-2360d63c85a0\">\n",
              "    <div class=\"colab-df-container\">\n",
              "      <div>\n",
              "<style scoped>\n",
              "    .dataframe tbody tr th:only-of-type {\n",
              "        vertical-align: middle;\n",
              "    }\n",
              "\n",
              "    .dataframe tbody tr th {\n",
              "        vertical-align: top;\n",
              "    }\n",
              "\n",
              "    .dataframe thead th {\n",
              "        text-align: right;\n",
              "    }\n",
              "</style>\n",
              "<table border=\"1\" class=\"dataframe\">\n",
              "  <thead>\n",
              "    <tr style=\"text-align: right;\">\n",
              "      <th></th>\n",
              "      <th>age</th>\n",
              "      <th>bmi</th>\n",
              "      <th>ethnicity</th>\n",
              "      <th>gender</th>\n",
              "      <th>icu_type</th>\n",
              "      <th>apache_2_diagnosis</th>\n",
              "      <th>d1_bun_max</th>\n",
              "      <th>d1_bun_min</th>\n",
              "      <th>d1_glucose_max</th>\n",
              "      <th>d1_glucose_min</th>\n",
              "      <th>d1_potassium_max</th>\n",
              "      <th>diabetes_mellitus</th>\n",
              "    </tr>\n",
              "  </thead>\n",
              "  <tbody>\n",
              "    <tr>\n",
              "      <th>0</th>\n",
              "      <td>68.0</td>\n",
              "      <td>22.732803</td>\n",
              "      <td>Caucasian</td>\n",
              "      <td>M</td>\n",
              "      <td>CTICU</td>\n",
              "      <td>113.0</td>\n",
              "      <td>31.0</td>\n",
              "      <td>30.0</td>\n",
              "      <td>168.0</td>\n",
              "      <td>109.0</td>\n",
              "      <td>4.0</td>\n",
              "      <td>1</td>\n",
              "    </tr>\n",
              "    <tr>\n",
              "      <th>1</th>\n",
              "      <td>77.0</td>\n",
              "      <td>27.421875</td>\n",
              "      <td>Caucasian</td>\n",
              "      <td>F</td>\n",
              "      <td>Med-Surg ICU</td>\n",
              "      <td>108.0</td>\n",
              "      <td>11.0</td>\n",
              "      <td>9.0</td>\n",
              "      <td>145.0</td>\n",
              "      <td>128.0</td>\n",
              "      <td>4.2</td>\n",
              "      <td>1</td>\n",
              "    </tr>\n",
              "    <tr>\n",
              "      <th>5</th>\n",
              "      <td>67.0</td>\n",
              "      <td>27.555611</td>\n",
              "      <td>Caucasian</td>\n",
              "      <td>M</td>\n",
              "      <td>Med-Surg ICU</td>\n",
              "      <td>301.0</td>\n",
              "      <td>13.0</td>\n",
              "      <td>13.0</td>\n",
              "      <td>156.0</td>\n",
              "      <td>125.0</td>\n",
              "      <td>3.9</td>\n",
              "      <td>1</td>\n",
              "    </tr>\n",
              "    <tr>\n",
              "      <th>9</th>\n",
              "      <td>50.0</td>\n",
              "      <td>25.707702</td>\n",
              "      <td>Other/Unknown</td>\n",
              "      <td>M</td>\n",
              "      <td>CCU-CTICU</td>\n",
              "      <td>112.0</td>\n",
              "      <td>10.0</td>\n",
              "      <td>10.0</td>\n",
              "      <td>134.0</td>\n",
              "      <td>134.0</td>\n",
              "      <td>4.1</td>\n",
              "      <td>0</td>\n",
              "    </tr>\n",
              "    <tr>\n",
              "      <th>10</th>\n",
              "      <td>72.0</td>\n",
              "      <td>28.257052</td>\n",
              "      <td>Hispanic</td>\n",
              "      <td>F</td>\n",
              "      <td>Med-Surg ICU</td>\n",
              "      <td>303.0</td>\n",
              "      <td>14.0</td>\n",
              "      <td>14.0</td>\n",
              "      <td>158.0</td>\n",
              "      <td>133.0</td>\n",
              "      <td>4.2</td>\n",
              "      <td>0</td>\n",
              "    </tr>\n",
              "  </tbody>\n",
              "</table>\n",
              "</div>\n",
              "      <button class=\"colab-df-convert\" onclick=\"convertToInteractive('df-fa15c8a9-da94-4cc3-9da4-2360d63c85a0')\"\n",
              "              title=\"Convert this dataframe to an interactive table.\"\n",
              "              style=\"display:none;\">\n",
              "        \n",
              "  <svg xmlns=\"http://www.w3.org/2000/svg\" height=\"24px\"viewBox=\"0 0 24 24\"\n",
              "       width=\"24px\">\n",
              "    <path d=\"M0 0h24v24H0V0z\" fill=\"none\"/>\n",
              "    <path d=\"M18.56 5.44l.94 2.06.94-2.06 2.06-.94-2.06-.94-.94-2.06-.94 2.06-2.06.94zm-11 1L8.5 8.5l.94-2.06 2.06-.94-2.06-.94L8.5 2.5l-.94 2.06-2.06.94zm10 10l.94 2.06.94-2.06 2.06-.94-2.06-.94-.94-2.06-.94 2.06-2.06.94z\"/><path d=\"M17.41 7.96l-1.37-1.37c-.4-.4-.92-.59-1.43-.59-.52 0-1.04.2-1.43.59L10.3 9.45l-7.72 7.72c-.78.78-.78 2.05 0 2.83L4 21.41c.39.39.9.59 1.41.59.51 0 1.02-.2 1.41-.59l7.78-7.78 2.81-2.81c.8-.78.8-2.07 0-2.86zM5.41 20L4 18.59l7.72-7.72 1.47 1.35L5.41 20z\"/>\n",
              "  </svg>\n",
              "      </button>\n",
              "      \n",
              "  <style>\n",
              "    .colab-df-container {\n",
              "      display:flex;\n",
              "      flex-wrap:wrap;\n",
              "      gap: 12px;\n",
              "    }\n",
              "\n",
              "    .colab-df-convert {\n",
              "      background-color: #E8F0FE;\n",
              "      border: none;\n",
              "      border-radius: 50%;\n",
              "      cursor: pointer;\n",
              "      display: none;\n",
              "      fill: #1967D2;\n",
              "      height: 32px;\n",
              "      padding: 0 0 0 0;\n",
              "      width: 32px;\n",
              "    }\n",
              "\n",
              "    .colab-df-convert:hover {\n",
              "      background-color: #E2EBFA;\n",
              "      box-shadow: 0px 1px 2px rgba(60, 64, 67, 0.3), 0px 1px 3px 1px rgba(60, 64, 67, 0.15);\n",
              "      fill: #174EA6;\n",
              "    }\n",
              "\n",
              "    [theme=dark] .colab-df-convert {\n",
              "      background-color: #3B4455;\n",
              "      fill: #D2E3FC;\n",
              "    }\n",
              "\n",
              "    [theme=dark] .colab-df-convert:hover {\n",
              "      background-color: #434B5C;\n",
              "      box-shadow: 0px 1px 3px 1px rgba(0, 0, 0, 0.15);\n",
              "      filter: drop-shadow(0px 1px 2px rgba(0, 0, 0, 0.3));\n",
              "      fill: #FFFFFF;\n",
              "    }\n",
              "  </style>\n",
              "\n",
              "      <script>\n",
              "        const buttonEl =\n",
              "          document.querySelector('#df-fa15c8a9-da94-4cc3-9da4-2360d63c85a0 button.colab-df-convert');\n",
              "        buttonEl.style.display =\n",
              "          google.colab.kernel.accessAllowed ? 'block' : 'none';\n",
              "\n",
              "        async function convertToInteractive(key) {\n",
              "          const element = document.querySelector('#df-fa15c8a9-da94-4cc3-9da4-2360d63c85a0');\n",
              "          const dataTable =\n",
              "            await google.colab.kernel.invokeFunction('convertToInteractive',\n",
              "                                                     [key], {});\n",
              "          if (!dataTable) return;\n",
              "\n",
              "          const docLinkHtml = 'Like what you see? Visit the ' +\n",
              "            '<a target=\"_blank\" href=https://colab.research.google.com/notebooks/data_table.ipynb>data table notebook</a>'\n",
              "            + ' to learn more about interactive tables.';\n",
              "          element.innerHTML = '';\n",
              "          dataTable['output_type'] = 'display_data';\n",
              "          await google.colab.output.renderOutput(dataTable, element);\n",
              "          const docLink = document.createElement('div');\n",
              "          docLink.innerHTML = docLinkHtml;\n",
              "          element.appendChild(docLink);\n",
              "        }\n",
              "      </script>\n",
              "    </div>\n",
              "  </div>\n",
              "  "
            ]
          },
          "metadata": {},
          "execution_count": 67
        }
      ],
      "source": [
        "df_diabetes = data_cleaning_outliers(df_diabetes)\n",
        "df_diabetes.head()"
      ],
      "id": "qt8udJ6MJFjF"
    },
    {
      "cell_type": "code",
      "execution_count": null,
      "metadata": {
        "id": "KtYEClziJAJF"
      },
      "outputs": [],
      "source": [
        "# sns.pairplot(data=df_diabetes, hue = \"diabetes_mellitus\")"
      ],
      "id": "KtYEClziJAJF"
    },
    {
      "cell_type": "markdown",
      "metadata": {
        "id": "0d2e71df"
      },
      "source": [
        "## imbalanced data"
      ],
      "id": "0d2e71df"
    },
    {
      "cell_type": "code",
      "execution_count": null,
      "metadata": {
        "colab": {
          "base_uri": "https://localhost:8080/"
        },
        "id": "82b4847d",
        "outputId": "54a404c4-26ae-45e9-c3e4-855dd5ae797e",
        "scrolled": false
      },
      "outputs": [
        {
          "output_type": "execute_result",
          "data": {
            "text/plain": [
              "0    0.79259\n",
              "1    0.20741\n",
              "Name: diabetes_mellitus, dtype: float64"
            ]
          },
          "metadata": {},
          "execution_count": 69
        }
      ],
      "source": [
        "df_diabetes['diabetes_mellitus'].value_counts(normalize=True)"
      ],
      "id": "82b4847d"
    },
    {
      "cell_type": "markdown",
      "metadata": {
        "id": "pIWQbNUWGjP3"
      },
      "source": [
        "# feature engineering"
      ],
      "id": "pIWQbNUWGjP3"
    },
    {
      "cell_type": "markdown",
      "metadata": {
        "id": "b14b3b50"
      },
      "source": [
        "## mapping APACHE column"
      ],
      "id": "b14b3b50"
    },
    {
      "cell_type": "code",
      "execution_count": null,
      "metadata": {
        "id": "1181aa80"
      },
      "outputs": [],
      "source": [
        "g = df_diabetes.groupby(['apache_2_diagnosis']).agg(pct_diabetes=pd.NamedAgg(column=\"diabetes_mellitus\", aggfunc=lambda x: 100*(x.sum() / len(x))),\n",
        "                                         num_of_patients=pd.NamedAgg(column=\"diabetes_mellitus\", aggfunc=lambda x: len(x))).copy()\n",
        "g.sort_values(by='pct_diabetes', inplace=True)\n",
        "apache_code = g.index\n",
        "pct_diabetes = g.pct_diabetes.values.round(2)\n",
        "apache_dic = dict(zip(apache_code, pct_diabetes))\n",
        "df_diabetes['apache_2_diagnosis'] = df_diabetes['apache_2_diagnosis'].map(apache_dic)\n",
        "df_diabetes.loc[df_diabetes['apache_2_diagnosis']<8, 'apache_2_diagnosis'] = 1\n",
        "df_diabetes.loc[df_diabetes['apache_2_diagnosis']>=35, 'apache_2_diagnosis'] = 6\n",
        "apache_seg = [8,14,19,26,35]\n",
        "for i in range(len(apache_seg)-1):\n",
        "    df_diabetes.loc[(df_diabetes['apache_2_diagnosis']>=apache_seg[i])&(df_diabetes['apache_2_diagnosis']<apache_seg[i+1]), 'apache_2_diagnosis'] = i+2"
      ],
      "id": "1181aa80"
    },
    {
      "cell_type": "code",
      "execution_count": null,
      "metadata": {
        "colab": {
          "base_uri": "https://localhost:8080/"
        },
        "id": "_5vpm91-QIi5",
        "outputId": "48f120ff-95ea-4560-c39f-6080a6ac5025"
      },
      "outputs": [
        {
          "output_type": "execute_result",
          "data": {
            "text/plain": [
              "<matplotlib.axes._subplots.AxesSubplot at 0x7f1a534a8990>"
            ]
          },
          "metadata": {},
          "execution_count": 71
        },
        {
          "output_type": "display_data",
          "data": {
            "text/plain": [
              "<Figure size 432x288 with 1 Axes>"
            ],
            "image/png": "[encoded data removed]"
          },
          "metadata": {
            "needs_background": "light"
          }
        }
      ],
      "source": [
        "df_ap_rat = df_diabetes[['apache_2_diagnosis','gender','diabetes_mellitus']].groupby('apache_2_diagnosis').agg({'gender' : 'count', 'diabetes_mellitus' : 'sum'})\n",
        "df_ap_rat['ratio'] = df_ap_rat['diabetes_mellitus']/df_ap_rat['gender']\n",
        "df_ap_rat['ratio'].plot()"
      ],
      "id": "_5vpm91-QIi5"
    },
    {
      "cell_type": "markdown",
      "metadata": {
        "id": "Hg08x52SGS3-"
      },
      "source": [
        "## mapping icu type column"
      ],
      "id": "Hg08x52SGS3-"
    },
    {
      "cell_type": "code",
      "execution_count": null,
      "metadata": {
        "id": "yeBZYi1_YDq4"
      },
      "outputs": [],
      "source": [
        "def map_categorial(col_name):\n",
        "    g = df_diabetes.groupby([col_name]).agg(pct_diabetes=pd.NamedAgg(column=\"diabetes_mellitus\", aggfunc=lambda x: 100*(x.sum() / len(x))),\n",
        "                                             num_of_patients=pd.NamedAgg(column=\"diabetes_mellitus\", aggfunc=lambda x: len(x))).copy()\n",
        "    g.sort_values(by='pct_diabetes', inplace=True)\n",
        "    map_dic = dict(zip(g.index, list(range(1, len(g)+1))))\n",
        "    df_diabetes[col_name] = df_diabetes[col_name].map(map_dic)"
      ],
      "id": "yeBZYi1_YDq4"
    },
    {
      "cell_type": "code",
      "execution_count": null,
      "metadata": {
        "id": "mjX8gBq1YiIx"
      },
      "outputs": [],
      "source": [
        "map_categorial('icu_type')"
      ],
      "id": "mjX8gBq1YiIx"
    },
    {
      "cell_type": "code",
      "execution_count": null,
      "metadata": {
        "colab": {
          "base_uri": "https://localhost:8080/"
        },
        "id": "I3kOUZqtYpaw",
        "outputId": "ecaa3130-30f4-45fc-8e74-fdadb42b60cb"
      },
      "outputs": [
        {
          "output_type": "execute_result",
          "data": {
            "text/plain": [
              "<matplotlib.axes._subplots.AxesSubplot at 0x7f1a5341f910>"
            ]
          },
          "metadata": {},
          "execution_count": 74
        },
        {
          "output_type": "display_data",
          "data": {
            "text/plain": [
              "<Figure size 432x288 with 1 Axes>"
            ],
            "image/png": "[encoded data removed]"
          },
          "metadata": {
            "needs_background": "light"
          }
        }
      ],
      "source": [
        "df_ap_rat = df_diabetes[['icu_type','gender','diabetes_mellitus']].groupby('icu_type').agg({'gender' : 'count', 'diabetes_mellitus' : 'sum'})\n",
        "df_ap_rat['ratio'] = df_ap_rat['diabetes_mellitus']/df_ap_rat['gender']\n",
        "df_ap_rat['ratio'].plot()"
      ],
      "id": "I3kOUZqtYpaw"
    },
    {
      "cell_type": "markdown",
      "metadata": {
        "id": "pUht6yYGTFsB"
      },
      "source": [
        "## mapping ethnicity column"
      ],
      "id": "pUht6yYGTFsB"
    },
    {
      "cell_type": "code",
      "execution_count": null,
      "metadata": {
        "id": "H1fa6QOiYklO"
      },
      "outputs": [],
      "source": [
        "map_categorial('ethnicity')"
      ],
      "id": "H1fa6QOiYklO"
    },
    {
      "cell_type": "code",
      "execution_count": null,
      "metadata": {
        "id": "dTRbfoiBZBVq"
      },
      "outputs": [],
      "source": [
        "df_diabetes_trees = df_diabetes.copy()"
      ],
      "id": "dTRbfoiBZBVq"
    },
    {
      "cell_type": "code",
      "execution_count": null,
      "metadata": {
        "colab": {
          "base_uri": "https://localhost:8080/"
        },
        "id": "I9f6wqd-c87o",
        "outputId": "5fda5366-d83b-4a83-d0f2-82669638a6b1"
      },
      "outputs": [
        {
          "output_type": "execute_result",
          "data": {
            "text/plain": [
              "<matplotlib.axes._subplots.AxesSubplot at 0x7f1a5344fdd0>"
            ]
          },
          "metadata": {},
          "execution_count": 77
        },
        {
          "output_type": "display_data",
          "data": {
            "text/plain": [
              "<Figure size 432x288 with 1 Axes>"
            ],
            "image/png": "[encoded data removed]"
          },
          "metadata": {
            "needs_background": "light"
          }
        }
      ],
      "source": [
        "df_ap_rat = df_diabetes[['ethnicity','gender','diabetes_mellitus']].groupby('ethnicity').agg({'gender' : 'count', 'diabetes_mellitus' : 'sum'})\n",
        "df_ap_rat['ratio'] = df_ap_rat['diabetes_mellitus']/df_ap_rat['gender']\n",
        "df_ap_rat['ratio'].plot()"
      ],
      "id": "I9f6wqd-c87o"
    },
    {
      "cell_type": "markdown",
      "metadata": {
        "id": "05699956"
      },
      "source": [
        "## creating age X age_group X gender columns"
      ],
      "id": "05699956"
    },
    {
      "cell_type": "code",
      "execution_count": null,
      "metadata": {
        "id": "n2o1dXfJVwOH"
      },
      "outputs": [],
      "source": [
        "def set_age_group(age):\n",
        "  if age <= 35:\n",
        "    return '<35'\n",
        "  elif age <= 75:\n",
        "    return '35<age<75'\n",
        "  else:\n",
        "    return '>75'"
      ],
      "id": "n2o1dXfJVwOH"
    },
    {
      "cell_type": "code",
      "execution_count": null,
      "metadata": {
        "id": "8AbPUpu7UhWp"
      },
      "outputs": [],
      "source": [
        "# split to age groups\n",
        "df_diabetes['age_group'] = df_diabetes['age'].apply(lambda age : set_age_group(age))"
      ],
      "id": "8AbPUpu7UhWp"
    },
    {
      "cell_type": "code",
      "execution_count": null,
      "metadata": {
        "id": "K8jvZIb9Tcf4"
      },
      "outputs": [],
      "source": [
        "# split gender and age groups to dummies\n",
        "df_diabetes = pd.get_dummies(data = df_diabetes, columns = ['gender', 'age_group'])\n"
      ],
      "id": "K8jvZIb9Tcf4"
    },
    {
      "cell_type": "code",
      "execution_count": null,
      "metadata": {
        "id": "d7325rq8eY7d"
      },
      "outputs": [],
      "source": [
        "# set ageXgenderXage_group columns\n",
        "gender = ['gender_F',\t'gender_M']\n",
        "age_g = ['age_group_35<age<75','age_group_<35','age_group_>75']\n",
        "\n",
        "for gend in gender:\n",
        "  for ageg in age_g:\n",
        "    df_diabetes[gend + 'X' + ageg] = df_diabetes[gend] * df_diabetes[ageg] * df_diabetes['age']\n",
        "\n",
        "df_diabetes.drop(columns = ['age_group_35<age<75','age_group_<35','age_group_>75', 'age'], inplace = True)\n"
      ],
      "id": "d7325rq8eY7d"
    },
    {
      "cell_type": "markdown",
      "metadata": {
        "id": "pLgRwyyYOz7m"
      },
      "source": [
        "## check for other columns that should be splitted"
      ],
      "id": "pLgRwyyYOz7m"
    },
    {
      "cell_type": "code",
      "execution_count": null,
      "metadata": {
        "id": "e9FI17vv0YGW"
      },
      "outputs": [],
      "source": [
        "# sns.pairplot(data=df_diabetes.drop(\n",
        "#                                     columns = ['gender_FXage_group_35<age<75',\t'gender_FXage_group_<35',\t'gender_FXage_group_>75',\n",
        "#                                               'gender_MXage_group_35<age<75',\t'gender_MXage_group_<35',\t'gender_MXage_group_>75']),\n",
        "#                                     hue = \"diabetes_mellitus\")"
      ],
      "id": "e9FI17vv0YGW"
    },
    {
      "cell_type": "code",
      "execution_count": null,
      "metadata": {
        "colab": {
          "base_uri": "https://localhost:8080/"
        },
        "id": "kWjJ9SoKRTVg",
        "outputId": "58a87b92-1a0c-48ab-df96-b656b630d4b4"
      },
      "outputs": [
        {
          "output_type": "display_data",
          "data": {
            "text/plain": [
              "<Figure size 1800x1800 with 6 Axes>"
            ],
            "image/png": "[encoded data removed]"
          },
          "metadata": {
            "needs_background": "light"
          }
        }
      ],
      "source": [
        "df_cols = df_diabetes.drop(columns = ['gender_FXage_group_35<age<75',\t'gender_FXage_group_<35',\t'gender_FXage_group_>75',\n",
        "                                      'gender_MXage_group_35<age<75',\t'gender_MXage_group_<35',\t'gender_MXage_group_>75', 'diabetes_mellitus', 'ethnicity','icu_type', 'apache_2_diagnosis'])\n",
        "\n",
        "fig, axes = plt.subplots(6,1, figsize = (25,25), sharey = True)\n",
        "for ax, col in zip(axes, df_cols):\n",
        "  df_rat_ = df_diabetes.copy()\n",
        "  df_rat_[col] = df_rat_[col].apply(lambda x: round(x))\n",
        "  df_rat_ = df_rat_[[col,'ethnicity','diabetes_mellitus']].groupby(col).agg({'ethnicity' : 'count', 'diabetes_mellitus' : 'sum'})\n",
        "  df_rat_['ratio'] = df_rat_['diabetes_mellitus']/df_rat_['ethnicity']\n",
        "  sns.lineplot(data = df_rat_, y = 'ratio',x = col, ax = ax)\n",
        "  plt.xlabel(col)\n"
      ],
      "id": "kWjJ9SoKRTVg"
    },
    {
      "cell_type": "code",
      "execution_count": null,
      "metadata": {
        "colab": {
          "base_uri": "https://localhost:8080/"
        },
        "id": "nu5OI7zkyrcm",
        "outputId": "2ec8e273-2f02-4a1d-aa5c-36831a30b728"
      },
      "outputs": [
        {
          "output_type": "display_data",
          "data": {
            "text/plain": [
              "<Figure size 1800x1800 with 5 Axes>"
            ],
            "image/png": "[encoded data removed]"
          },
          "metadata": {
            "needs_background": "light"
          }
        }
      ],
      "source": [
        "fig, axes = plt.subplots(5,1, figsize = (25,25), sharey = True)\n",
        "for ax, col in zip(axes, df_cols.drop(columns = ['d1_potassium_max'])):\n",
        "  df_rat = df_diabetes.copy()\n",
        "  df_rat[col] = df_rat[col].apply(lambda x: round(x/5))\n",
        "  df_rat = df_rat[[col,'ethnicity','diabetes_mellitus']].groupby(col).agg({'ethnicity' : 'count', 'diabetes_mellitus' : 'sum'})\n",
        "  df_rat['ratio'] = df_rat['diabetes_mellitus']/df_rat['ethnicity']\n",
        "  df_rat['ratio'].plot(ax = ax)\n",
        "  plt.xlabel(col)\n",
        "\n",
        "  "
      ],
      "id": "nu5OI7zkyrcm"
    },
    {
      "cell_type": "markdown",
      "metadata": {
        "id": "mT0oY-8MPNFB"
      },
      "source": [
        "## create glucose_minXglucose_min<95 and glucose_minXglucose_min>95"
      ],
      "id": "mT0oY-8MPNFB"
    },
    {
      "cell_type": "code",
      "execution_count": null,
      "metadata": {
        "id": "Z3nMjcP9fzKE"
      },
      "outputs": [],
      "source": [
        "def set_glu_group(glu):\n",
        "  if glu <= 95:\n",
        "    return '<95'\n",
        "  else:\n",
        "    return '>95'"
      ],
      "id": "Z3nMjcP9fzKE"
    },
    {
      "cell_type": "code",
      "execution_count": null,
      "metadata": {
        "id": "Xq7ZpBU9ehPc"
      },
      "outputs": [],
      "source": [
        "df_diabetes['glu_group'] = df_diabetes['d1_glucose_min'].apply(lambda glu : set_glu_group(glu))"
      ],
      "id": "Xq7ZpBU9ehPc"
    },
    {
      "cell_type": "code",
      "execution_count": null,
      "metadata": {
        "id": "C5dMncP7gjxk"
      },
      "outputs": [],
      "source": [
        "# split glu_groups to dummies\n",
        "df_diabetes = pd.get_dummies(data = df_diabetes, columns = ['glu_group'])\n"
      ],
      "id": "C5dMncP7gjxk"
    },
    {
      "cell_type": "code",
      "execution_count": null,
      "metadata": {
        "colab": {
          "base_uri": "https://localhost:8080/"
        },
        "id": "BDl94vg4tWzx",
        "outputId": "c4a60e9d-5901-4314-d9d6-05d3c23d5ca6"
      },
      "outputs": [
        {
          "output_type": "execute_result",
          "data": {
            "text/plain": [
              "97.0     1585\n",
              "96.0     1552\n",
              "100.0    1545\n",
              "95.0     1540\n",
              "92.0     1538\n",
              "         ... \n",
              "34.0       36\n",
              "37.0       35\n",
              "223.0      35\n",
              "227.0      32\n",
              "35.0       32\n",
              "Name: d1_glucose_min, Length: 195, dtype: int64"
            ]
          },
          "metadata": {},
          "execution_count": 88
        }
      ],
      "source": [
        "df_diabetes['d1_glucose_min'].value_counts()"
      ],
      "id": "BDl94vg4tWzx"
    },
    {
      "cell_type": "code",
      "execution_count": null,
      "metadata": {
        "id": "yZkrRj9_trzA"
      },
      "outputs": [],
      "source": [
        "# set 'd1_glucose_minXgenderXglu_group columns\n",
        "gender = ['gender_F',\t'gender_M']\n",
        "glu_g = ['glu_group_<95','glu_group_>95']\n",
        "\n",
        "for gend in gender:\n",
        "  for glug in glu_g:\n",
        "    df_diabetes[gend + 'X' + glug] = df_diabetes[gend] * df_diabetes[glug] * df_diabetes['d1_glucose_min']\n",
        "\n",
        "df_diabetes.drop(columns = ['d1_glucose_min', 'glu_group_<95', 'glu_group_>95', 'd1_glucose_min'], inplace = True)\n"
      ],
      "id": "yZkrRj9_trzA"
    },
    {
      "cell_type": "markdown",
      "metadata": {
        "id": "3g3HAXR5Pg36"
      },
      "source": [
        "## create , bmiXbmi<18, bmiX18<bmi<65 and bmiXbmi>65"
      ],
      "id": "3g3HAXR5Pg36"
    },
    {
      "cell_type": "code",
      "execution_count": null,
      "metadata": {
        "id": "EloKliCliFpz"
      },
      "outputs": [],
      "source": [
        "def set_bmi_group(bmi):\n",
        "  if bmi <= 18:\n",
        "    return '<18'\n",
        "  else:\n",
        "    return '18>'\n"
      ],
      "id": "EloKliCliFpz"
    },
    {
      "cell_type": "code",
      "execution_count": null,
      "metadata": {
        "id": "R589LHJfibKE"
      },
      "outputs": [],
      "source": [
        "df_diabetes['bmi_group'] = df_diabetes['bmi'].apply(lambda bmi : set_bmi_group(bmi))"
      ],
      "id": "R589LHJfibKE"
    },
    {
      "cell_type": "code",
      "execution_count": null,
      "metadata": {
        "colab": {
          "base_uri": "https://localhost:8080/"
        },
        "id": "f539u5mRineB",
        "outputId": "0fe5503f-b2d6-4573-d800-20da33ae4789"
      },
      "outputs": [
        {
          "output_type": "execute_result",
          "data": {
            "text/plain": [
              "          bmi  ethnicity  icu_type  apache_2_diagnosis  d1_bun_max  \\\n",
              "0   22.732803          1         7                 4.0        31.0   \n",
              "1   27.421875          1         4                 4.0        11.0   \n",
              "5   27.555611          1         4                 3.0        13.0   \n",
              "9   25.707702          2         6                 4.0        10.0   \n",
              "10  28.257052          4         4                 3.0        14.0   \n",
              "\n",
              "    d1_bun_min  d1_glucose_max  d1_potassium_max  diabetes_mellitus  gender_F  \\\n",
              "0         30.0           168.0               4.0                  1         0   \n",
              "1          9.0           145.0               4.2                  1         1   \n",
              "5         13.0           156.0               3.9                  1         0   \n",
              "9         10.0           134.0               4.1                  0         0   \n",
              "10        14.0           158.0               4.2                  0         1   \n",
              "\n",
              "    ...  gender_FXage_group_>75  gender_MXage_group_35<age<75  \\\n",
              "0   ...                     0.0                          68.0   \n",
              "1   ...                    77.0                           0.0   \n",
              "5   ...                     0.0                          67.0   \n",
              "9   ...                     0.0                          50.0   \n",
              "10  ...                     0.0                           0.0   \n",
              "\n",
              "    gender_MXage_group_<35  gender_MXage_group_>75  gender_FXglu_group_<95  \\\n",
              "0                      0.0                     0.0                     0.0   \n",
              "1                      0.0                     0.0                     0.0   \n",
              "5                      0.0                     0.0                     0.0   \n",
              "9                      0.0                     0.0                     0.0   \n",
              "10                     0.0                     0.0                     0.0   \n",
              "\n",
              "    gender_FXglu_group_>95  gender_MXglu_group_<95  gender_MXglu_group_>95  \\\n",
              "0                      0.0                     0.0                   109.0   \n",
              "1                    128.0                     0.0                     0.0   \n",
              "5                      0.0                     0.0                   125.0   \n",
              "9                      0.0                     0.0                   134.0   \n",
              "10                   133.0                     0.0                     0.0   \n",
              "\n",
              "    bmi_group_18>  bmi_group_<18  \n",
              "0               1              0  \n",
              "1               1              0  \n",
              "5               1              0  \n",
              "9               1              0  \n",
              "10              1              0  \n",
              "\n",
              "[5 rows x 23 columns]"
            ],
            "text/html": [
              "\n",
              "  <div id=\"df-863dcfa9-2df0-4188-9b4b-d16769086df5\">\n",
              "    <div class=\"colab-df-container\">\n",
              "      <div>\n",
              "<style scoped>\n",
              "    .dataframe tbody tr th:only-of-type {\n",
              "        vertical-align: middle;\n",
              "    }\n",
              "\n",
              "    .dataframe tbody tr th {\n",
              "        vertical-align: top;\n",
              "    }\n",
              "\n",
              "    .dataframe thead th {\n",
              "        text-align: right;\n",
              "    }\n",
              "</style>\n",
              "<table border=\"1\" class=\"dataframe\">\n",
              "  <thead>\n",
              "    <tr style=\"text-align: right;\">\n",
              "      <th></th>\n",
              "      <th>bmi</th>\n",
              "      <th>ethnicity</th>\n",
              "      <th>icu_type</th>\n",
              "      <th>apache_2_diagnosis</th>\n",
              "      <th>d1_bun_max</th>\n",
              "      <th>d1_bun_min</th>\n",
              "      <th>d1_glucose_max</th>\n",
              "      <th>d1_potassium_max</th>\n",
              "      <th>diabetes_mellitus</th>\n",
              "      <th>gender_F</th>\n",
              "      <th>...</th>\n",
              "      <th>gender_FXage_group_&gt;75</th>\n",
              "      <th>gender_MXage_group_35&lt;age&lt;75</th>\n",
              "      <th>gender_MXage_group_&lt;35</th>\n",
              "      <th>gender_MXage_group_&gt;75</th>\n",
              "      <th>gender_FXglu_group_&lt;95</th>\n",
              "      <th>gender_FXglu_group_&gt;95</th>\n",
              "      <th>gender_MXglu_group_&lt;95</th>\n",
              "      <th>gender_MXglu_group_&gt;95</th>\n",
              "      <th>bmi_group_18&gt;</th>\n",
              "      <th>bmi_group_&lt;18</th>\n",
              "    </tr>\n",
              "  </thead>\n",
              "  <tbody>\n",
              "    <tr>\n",
              "      <th>0</th>\n",
              "      <td>22.732803</td>\n",
              "      <td>1</td>\n",
              "      <td>7</td>\n",
              "      <td>4.0</td>\n",
              "      <td>31.0</td>\n",
              "      <td>30.0</td>\n",
              "      <td>168.0</td>\n",
              "      <td>4.0</td>\n",
              "      <td>1</td>\n",
              "      <td>0</td>\n",
              "      <td>...</td>\n",
              "      <td>0.0</td>\n",
              "      <td>68.0</td>\n",
              "      <td>0.0</td>\n",
              "      <td>0.0</td>\n",
              "      <td>0.0</td>\n",
              "      <td>0.0</td>\n",
              "      <td>0.0</td>\n",
              "      <td>109.0</td>\n",
              "      <td>1</td>\n",
              "      <td>0</td>\n",
              "    </tr>\n",
              "    <tr>\n",
              "      <th>1</th>\n",
              "      <td>27.421875</td>\n",
              "      <td>1</td>\n",
              "      <td>4</td>\n",
              "      <td>4.0</td>\n",
              "      <td>11.0</td>\n",
              "      <td>9.0</td>\n",
              "      <td>145.0</td>\n",
              "      <td>4.2</td>\n",
              "      <td>1</td>\n",
              "      <td>1</td>\n",
              "      <td>...</td>\n",
              "      <td>77.0</td>\n",
              "      <td>0.0</td>\n",
              "      <td>0.0</td>\n",
              "      <td>0.0</td>\n",
              "      <td>0.0</td>\n",
              "      <td>128.0</td>\n",
              "      <td>0.0</td>\n",
              "      <td>0.0</td>\n",
              "      <td>1</td>\n",
              "      <td>0</td>\n",
              "    </tr>\n",
              "    <tr>\n",
              "      <th>5</th>\n",
              "      <td>27.555611</td>\n",
              "      <td>1</td>\n",
              "      <td>4</td>\n",
              "      <td>3.0</td>\n",
              "      <td>13.0</td>\n",
              "      <td>13.0</td>\n",
              "      <td>156.0</td>\n",
              "      <td>3.9</td>\n",
              "      <td>1</td>\n",
              "      <td>0</td>\n",
              "      <td>...</td>\n",
              "      <td>0.0</td>\n",
              "      <td>67.0</td>\n",
              "      <td>0.0</td>\n",
              "      <td>0.0</td>\n",
              "      <td>0.0</td>\n",
              "      <td>0.0</td>\n",
              "      <td>0.0</td>\n",
              "      <td>125.0</td>\n",
              "      <td>1</td>\n",
              "      <td>0</td>\n",
              "    </tr>\n",
              "    <tr>\n",
              "      <th>9</th>\n",
              "      <td>25.707702</td>\n",
              "      <td>2</td>\n",
              "      <td>6</td>\n",
              "      <td>4.0</td>\n",
              "      <td>10.0</td>\n",
              "      <td>10.0</td>\n",
              "      <td>134.0</td>\n",
              "      <td>4.1</td>\n",
              "      <td>0</td>\n",
              "      <td>0</td>\n",
              "      <td>...</td>\n",
              "      <td>0.0</td>\n",
              "      <td>50.0</td>\n",
              "      <td>0.0</td>\n",
              "      <td>0.0</td>\n",
              "      <td>0.0</td>\n",
              "      <td>0.0</td>\n",
              "      <td>0.0</td>\n",
              "      <td>134.0</td>\n",
              "      <td>1</td>\n",
              "      <td>0</td>\n",
              "    </tr>\n",
              "    <tr>\n",
              "      <th>10</th>\n",
              "      <td>28.257052</td>\n",
              "      <td>4</td>\n",
              "      <td>4</td>\n",
              "      <td>3.0</td>\n",
              "      <td>14.0</td>\n",
              "      <td>14.0</td>\n",
              "      <td>158.0</td>\n",
              "      <td>4.2</td>\n",
              "      <td>0</td>\n",
              "      <td>1</td>\n",
              "      <td>...</td>\n",
              "      <td>0.0</td>\n",
              "      <td>0.0</td>\n",
              "      <td>0.0</td>\n",
              "      <td>0.0</td>\n",
              "      <td>0.0</td>\n",
              "      <td>133.0</td>\n",
              "      <td>0.0</td>\n",
              "      <td>0.0</td>\n",
              "      <td>1</td>\n",
              "      <td>0</td>\n",
              "    </tr>\n",
              "  </tbody>\n",
              "</table>\n",
              "<p>5 rows × 23 columns</p>\n",
              "</div>\n",
              "      <button class=\"colab-df-convert\" onclick=\"convertToInteractive('df-863dcfa9-2df0-4188-9b4b-d16769086df5')\"\n",
              "              title=\"Convert this dataframe to an interactive table.\"\n",
              "              style=\"display:none;\">\n",
              "        \n",
              "  <svg xmlns=\"http://www.w3.org/2000/svg\" height=\"24px\"viewBox=\"0 0 24 24\"\n",
              "       width=\"24px\">\n",
              "    <path d=\"M0 0h24v24H0V0z\" fill=\"none\"/>\n",
              "    <path d=\"M18.56 5.44l.94 2.06.94-2.06 2.06-.94-2.06-.94-.94-2.06-.94 2.06-2.06.94zm-11 1L8.5 8.5l.94-2.06 2.06-.94-2.06-.94L8.5 2.5l-.94 2.06-2.06.94zm10 10l.94 2.06.94-2.06 2.06-.94-2.06-.94-.94-2.06-.94 2.06-2.06.94z\"/><path d=\"M17.41 7.96l-1.37-1.37c-.4-.4-.92-.59-1.43-.59-.52 0-1.04.2-1.43.59L10.3 9.45l-7.72 7.72c-.78.78-.78 2.05 0 2.83L4 21.41c.39.39.9.59 1.41.59.51 0 1.02-.2 1.41-.59l7.78-7.78 2.81-2.81c.8-.78.8-2.07 0-2.86zM5.41 20L4 18.59l7.72-7.72 1.47 1.35L5.41 20z\"/>\n",
              "  </svg>\n",
              "      </button>\n",
              "      \n",
              "  <style>\n",
              "    .colab-df-container {\n",
              "      display:flex;\n",
              "      flex-wrap:wrap;\n",
              "      gap: 12px;\n",
              "    }\n",
              "\n",
              "    .colab-df-convert {\n",
              "      background-color: #E8F0FE;\n",
              "      border: none;\n",
              "      border-radius: 50%;\n",
              "      cursor: pointer;\n",
              "      display: none;\n",
              "      fill: #1967D2;\n",
              "      height: 32px;\n",
              "      padding: 0 0 0 0;\n",
              "      width: 32px;\n",
              "    }\n",
              "\n",
              "    .colab-df-convert:hover {\n",
              "      background-color: #E2EBFA;\n",
              "      box-shadow: 0px 1px 2px rgba(60, 64, 67, 0.3), 0px 1px 3px 1px rgba(60, 64, 67, 0.15);\n",
              "      fill: #174EA6;\n",
              "    }\n",
              "\n",
              "    [theme=dark] .colab-df-convert {\n",
              "      background-color: #3B4455;\n",
              "      fill: #D2E3FC;\n",
              "    }\n",
              "\n",
              "    [theme=dark] .colab-df-convert:hover {\n",
              "      background-color: #434B5C;\n",
              "      box-shadow: 0px 1px 3px 1px rgba(0, 0, 0, 0.15);\n",
              "      filter: drop-shadow(0px 1px 2px rgba(0, 0, 0, 0.3));\n",
              "      fill: #FFFFFF;\n",
              "    }\n",
              "  </style>\n",
              "\n",
              "      <script>\n",
              "        const buttonEl =\n",
              "          document.querySelector('#df-863dcfa9-2df0-4188-9b4b-d16769086df5 button.colab-df-convert');\n",
              "        buttonEl.style.display =\n",
              "          google.colab.kernel.accessAllowed ? 'block' : 'none';\n",
              "\n",
              "        async function convertToInteractive(key) {\n",
              "          const element = document.querySelector('#df-863dcfa9-2df0-4188-9b4b-d16769086df5');\n",
              "          const dataTable =\n",
              "            await google.colab.kernel.invokeFunction('convertToInteractive',\n",
              "                                                     [key], {});\n",
              "          if (!dataTable) return;\n",
              "\n",
              "          const docLinkHtml = 'Like what you see? Visit the ' +\n",
              "            '<a target=\"_blank\" href=https://colab.research.google.com/notebooks/data_table.ipynb>data table notebook</a>'\n",
              "            + ' to learn more about interactive tables.';\n",
              "          element.innerHTML = '';\n",
              "          dataTable['output_type'] = 'display_data';\n",
              "          await google.colab.output.renderOutput(dataTable, element);\n",
              "          const docLink = document.createElement('div');\n",
              "          docLink.innerHTML = docLinkHtml;\n",
              "          element.appendChild(docLink);\n",
              "        }\n",
              "      </script>\n",
              "    </div>\n",
              "  </div>\n",
              "  "
            ]
          },
          "metadata": {},
          "execution_count": 92
        }
      ],
      "source": [
        "# split bmi_groups to dummies\n",
        "df_diabetes = pd.get_dummies(data = df_diabetes, columns = ['bmi_group'])\n",
        "df_diabetes.head()"
      ],
      "id": "f539u5mRineB"
    },
    {
      "cell_type": "code",
      "execution_count": null,
      "metadata": {
        "id": "7wwQcfeciseB"
      },
      "outputs": [],
      "source": [
        "# set glu_groupsXd1_glucose_min columns\n",
        "gender = ['gender_F',\t'gender_M']\n",
        "bmi_g = ['bmi_group_18>',\t'bmi_group_<18']\n",
        "\n",
        "for gend in gender:\n",
        "  for bmi in bmi_g:\n",
        "    df_diabetes[gend + 'X' + bmi] = df_diabetes[gend] * df_diabetes[bmi] * df_diabetes['bmi']\n",
        "\n",
        "df_diabetes.drop(columns = ['bmi_group_18>', 'bmi_group_<18', 'bmi'], inplace = True)\n"
      ],
      "id": "7wwQcfeciseB"
    },
    {
      "cell_type": "code",
      "execution_count": null,
      "metadata": {
        "colab": {
          "base_uri": "https://localhost:8080/"
        },
        "id": "oJXYAOQxwyQr",
        "outputId": "bce3a6b4-ea94-41e4-b96b-d5cd74e67ab5"
      },
      "outputs": [
        {
          "output_type": "execute_result",
          "data": {
            "text/plain": [
              "    ethnicity  icu_type  apache_2_diagnosis  d1_bun_max  d1_bun_min  \\\n",
              "0           1         7                 4.0        31.0        30.0   \n",
              "1           1         4                 4.0        11.0         9.0   \n",
              "5           1         4                 3.0        13.0        13.0   \n",
              "9           2         6                 4.0        10.0        10.0   \n",
              "10          4         4                 3.0        14.0        14.0   \n",
              "\n",
              "    d1_glucose_max  d1_potassium_max  diabetes_mellitus  gender_F  gender_M  \\\n",
              "0            168.0               4.0                  1         0         1   \n",
              "1            145.0               4.2                  1         1         0   \n",
              "5            156.0               3.9                  1         0         1   \n",
              "9            134.0               4.1                  0         0         1   \n",
              "10           158.0               4.2                  0         1         0   \n",
              "\n",
              "    ...  gender_MXage_group_<35  gender_MXage_group_>75  \\\n",
              "0   ...                     0.0                     0.0   \n",
              "1   ...                     0.0                     0.0   \n",
              "5   ...                     0.0                     0.0   \n",
              "9   ...                     0.0                     0.0   \n",
              "10  ...                     0.0                     0.0   \n",
              "\n",
              "    gender_FXglu_group_<95  gender_FXglu_group_>95  gender_MXglu_group_<95  \\\n",
              "0                      0.0                     0.0                     0.0   \n",
              "1                      0.0                   128.0                     0.0   \n",
              "5                      0.0                     0.0                     0.0   \n",
              "9                      0.0                     0.0                     0.0   \n",
              "10                     0.0                   133.0                     0.0   \n",
              "\n",
              "    gender_MXglu_group_>95  gender_FXbmi_group_18>  gender_FXbmi_group_<18  \\\n",
              "0                    109.0                0.000000                     0.0   \n",
              "1                      0.0               27.421875                     0.0   \n",
              "5                    125.0                0.000000                     0.0   \n",
              "9                    134.0                0.000000                     0.0   \n",
              "10                     0.0               28.257052                     0.0   \n",
              "\n",
              "    gender_MXbmi_group_18>  gender_MXbmi_group_<18  \n",
              "0                22.732803                     0.0  \n",
              "1                 0.000000                     0.0  \n",
              "5                27.555611                     0.0  \n",
              "9                25.707702                     0.0  \n",
              "10                0.000000                     0.0  \n",
              "\n",
              "[5 rows x 24 columns]"
            ],
            "text/html": [
              "\n",
              "  <div id=\"df-8341f893-a2d9-48cd-994a-fe26175e4488\">\n",
              "    <div class=\"colab-df-container\">\n",
              "      <div>\n",
              "<style scoped>\n",
              "    .dataframe tbody tr th:only-of-type {\n",
              "        vertical-align: middle;\n",
              "    }\n",
              "\n",
              "    .dataframe tbody tr th {\n",
              "        vertical-align: top;\n",
              "    }\n",
              "\n",
              "    .dataframe thead th {\n",
              "        text-align: right;\n",
              "    }\n",
              "</style>\n",
              "<table border=\"1\" class=\"dataframe\">\n",
              "  <thead>\n",
              "    <tr style=\"text-align: right;\">\n",
              "      <th></th>\n",
              "      <th>ethnicity</th>\n",
              "      <th>icu_type</th>\n",
              "      <th>apache_2_diagnosis</th>\n",
              "      <th>d1_bun_max</th>\n",
              "      <th>d1_bun_min</th>\n",
              "      <th>d1_glucose_max</th>\n",
              "      <th>d1_potassium_max</th>\n",
              "      <th>diabetes_mellitus</th>\n",
              "      <th>gender_F</th>\n",
              "      <th>gender_M</th>\n",
              "      <th>...</th>\n",
              "      <th>gender_MXage_group_&lt;35</th>\n",
              "      <th>gender_MXage_group_&gt;75</th>\n",
              "      <th>gender_FXglu_group_&lt;95</th>\n",
              "      <th>gender_FXglu_group_&gt;95</th>\n",
              "      <th>gender_MXglu_group_&lt;95</th>\n",
              "      <th>gender_MXglu_group_&gt;95</th>\n",
              "      <th>gender_FXbmi_group_18&gt;</th>\n",
              "      <th>gender_FXbmi_group_&lt;18</th>\n",
              "      <th>gender_MXbmi_group_18&gt;</th>\n",
              "      <th>gender_MXbmi_group_&lt;18</th>\n",
              "    </tr>\n",
              "  </thead>\n",
              "  <tbody>\n",
              "    <tr>\n",
              "      <th>0</th>\n",
              "      <td>1</td>\n",
              "      <td>7</td>\n",
              "      <td>4.0</td>\n",
              "      <td>31.0</td>\n",
              "      <td>30.0</td>\n",
              "      <td>168.0</td>\n",
              "      <td>4.0</td>\n",
              "      <td>1</td>\n",
              "      <td>0</td>\n",
              "      <td>1</td>\n",
              "      <td>...</td>\n",
              "      <td>0.0</td>\n",
              "      <td>0.0</td>\n",
              "      <td>0.0</td>\n",
              "      <td>0.0</td>\n",
              "      <td>0.0</td>\n",
              "      <td>109.0</td>\n",
              "      <td>0.000000</td>\n",
              "      <td>0.0</td>\n",
              "      <td>22.732803</td>\n",
              "      <td>0.0</td>\n",
              "    </tr>\n",
              "    <tr>\n",
              "      <th>1</th>\n",
              "      <td>1</td>\n",
              "      <td>4</td>\n",
              "      <td>4.0</td>\n",
              "      <td>11.0</td>\n",
              "      <td>9.0</td>\n",
              "      <td>145.0</td>\n",
              "      <td>4.2</td>\n",
              "      <td>1</td>\n",
              "      <td>1</td>\n",
              "      <td>0</td>\n",
              "      <td>...</td>\n",
              "      <td>0.0</td>\n",
              "      <td>0.0</td>\n",
              "      <td>0.0</td>\n",
              "      <td>128.0</td>\n",
              "      <td>0.0</td>\n",
              "      <td>0.0</td>\n",
              "      <td>27.421875</td>\n",
              "      <td>0.0</td>\n",
              "      <td>0.000000</td>\n",
              "      <td>0.0</td>\n",
              "    </tr>\n",
              "    <tr>\n",
              "      <th>5</th>\n",
              "      <td>1</td>\n",
              "      <td>4</td>\n",
              "      <td>3.0</td>\n",
              "      <td>13.0</td>\n",
              "      <td>13.0</td>\n",
              "      <td>156.0</td>\n",
              "      <td>3.9</td>\n",
              "      <td>1</td>\n",
              "      <td>0</td>\n",
              "      <td>1</td>\n",
              "      <td>...</td>\n",
              "      <td>0.0</td>\n",
              "      <td>0.0</td>\n",
              "      <td>0.0</td>\n",
              "      <td>0.0</td>\n",
              "      <td>0.0</td>\n",
              "      <td>125.0</td>\n",
              "      <td>0.000000</td>\n",
              "      <td>0.0</td>\n",
              "      <td>27.555611</td>\n",
              "      <td>0.0</td>\n",
              "    </tr>\n",
              "    <tr>\n",
              "      <th>9</th>\n",
              "      <td>2</td>\n",
              "      <td>6</td>\n",
              "      <td>4.0</td>\n",
              "      <td>10.0</td>\n",
              "      <td>10.0</td>\n",
              "      <td>134.0</td>\n",
              "      <td>4.1</td>\n",
              "      <td>0</td>\n",
              "      <td>0</td>\n",
              "      <td>1</td>\n",
              "      <td>...</td>\n",
              "      <td>0.0</td>\n",
              "      <td>0.0</td>\n",
              "      <td>0.0</td>\n",
              "      <td>0.0</td>\n",
              "      <td>0.0</td>\n",
              "      <td>134.0</td>\n",
              "      <td>0.000000</td>\n",
              "      <td>0.0</td>\n",
              "      <td>25.707702</td>\n",
              "      <td>0.0</td>\n",
              "    </tr>\n",
              "    <tr>\n",
              "      <th>10</th>\n",
              "      <td>4</td>\n",
              "      <td>4</td>\n",
              "      <td>3.0</td>\n",
              "      <td>14.0</td>\n",
              "      <td>14.0</td>\n",
              "      <td>158.0</td>\n",
              "      <td>4.2</td>\n",
              "      <td>0</td>\n",
              "      <td>1</td>\n",
              "      <td>0</td>\n",
              "      <td>...</td>\n",
              "      <td>0.0</td>\n",
              "      <td>0.0</td>\n",
              "      <td>0.0</td>\n",
              "      <td>133.0</td>\n",
              "      <td>0.0</td>\n",
              "      <td>0.0</td>\n",
              "      <td>28.257052</td>\n",
              "      <td>0.0</td>\n",
              "      <td>0.000000</td>\n",
              "      <td>0.0</td>\n",
              "    </tr>\n",
              "  </tbody>\n",
              "</table>\n",
              "<p>5 rows × 24 columns</p>\n",
              "</div>\n",
              "      <button class=\"colab-df-convert\" onclick=\"convertToInteractive('df-8341f893-a2d9-48cd-994a-fe26175e4488')\"\n",
              "              title=\"Convert this dataframe to an interactive table.\"\n",
              "              style=\"display:none;\">\n",
              "        \n",
              "  <svg xmlns=\"http://www.w3.org/2000/svg\" height=\"24px\"viewBox=\"0 0 24 24\"\n",
              "       width=\"24px\">\n",
              "    <path d=\"M0 0h24v24H0V0z\" fill=\"none\"/>\n",
              "    <path d=\"M18.56 5.44l.94 2.06.94-2.06 2.06-.94-2.06-.94-.94-2.06-.94 2.06-2.06.94zm-11 1L8.5 8.5l.94-2.06 2.06-.94-2.06-.94L8.5 2.5l-.94 2.06-2.06.94zm10 10l.94 2.06.94-2.06 2.06-.94-2.06-.94-.94-2.06-.94 2.06-2.06.94z\"/><path d=\"M17.41 7.96l-1.37-1.37c-.4-.4-.92-.59-1.43-.59-.52 0-1.04.2-1.43.59L10.3 9.45l-7.72 7.72c-.78.78-.78 2.05 0 2.83L4 21.41c.39.39.9.59 1.41.59.51 0 1.02-.2 1.41-.59l7.78-7.78 2.81-2.81c.8-.78.8-2.07 0-2.86zM5.41 20L4 18.59l7.72-7.72 1.47 1.35L5.41 20z\"/>\n",
              "  </svg>\n",
              "      </button>\n",
              "      \n",
              "  <style>\n",
              "    .colab-df-container {\n",
              "      display:flex;\n",
              "      flex-wrap:wrap;\n",
              "      gap: 12px;\n",
              "    }\n",
              "\n",
              "    .colab-df-convert {\n",
              "      background-color: #E8F0FE;\n",
              "      border: none;\n",
              "      border-radius: 50%;\n",
              "      cursor: pointer;\n",
              "      display: none;\n",
              "      fill: #1967D2;\n",
              "      height: 32px;\n",
              "      padding: 0 0 0 0;\n",
              "      width: 32px;\n",
              "    }\n",
              "\n",
              "    .colab-df-convert:hover {\n",
              "      background-color: #E2EBFA;\n",
              "      box-shadow: 0px 1px 2px rgba(60, 64, 67, 0.3), 0px 1px 3px 1px rgba(60, 64, 67, 0.15);\n",
              "      fill: #174EA6;\n",
              "    }\n",
              "\n",
              "    [theme=dark] .colab-df-convert {\n",
              "      background-color: #3B4455;\n",
              "      fill: #D2E3FC;\n",
              "    }\n",
              "\n",
              "    [theme=dark] .colab-df-convert:hover {\n",
              "      background-color: #434B5C;\n",
              "      box-shadow: 0px 1px 3px 1px rgba(0, 0, 0, 0.15);\n",
              "      filter: drop-shadow(0px 1px 2px rgba(0, 0, 0, 0.3));\n",
              "      fill: #FFFFFF;\n",
              "    }\n",
              "  </style>\n",
              "\n",
              "      <script>\n",
              "        const buttonEl =\n",
              "          document.querySelector('#df-8341f893-a2d9-48cd-994a-fe26175e4488 button.colab-df-convert');\n",
              "        buttonEl.style.display =\n",
              "          google.colab.kernel.accessAllowed ? 'block' : 'none';\n",
              "\n",
              "        async function convertToInteractive(key) {\n",
              "          const element = document.querySelector('#df-8341f893-a2d9-48cd-994a-fe26175e4488');\n",
              "          const dataTable =\n",
              "            await google.colab.kernel.invokeFunction('convertToInteractive',\n",
              "                                                     [key], {});\n",
              "          if (!dataTable) return;\n",
              "\n",
              "          const docLinkHtml = 'Like what you see? Visit the ' +\n",
              "            '<a target=\"_blank\" href=https://colab.research.google.com/notebooks/data_table.ipynb>data table notebook</a>'\n",
              "            + ' to learn more about interactive tables.';\n",
              "          element.innerHTML = '';\n",
              "          dataTable['output_type'] = 'display_data';\n",
              "          await google.colab.output.renderOutput(dataTable, element);\n",
              "          const docLink = document.createElement('div');\n",
              "          docLink.innerHTML = docLinkHtml;\n",
              "          element.appendChild(docLink);\n",
              "        }\n",
              "      </script>\n",
              "    </div>\n",
              "  </div>\n",
              "  "
            ]
          },
          "metadata": {},
          "execution_count": 94
        }
      ],
      "source": [
        "df_diabetes.head()"
      ],
      "id": "oJXYAOQxwyQr"
    },
    {
      "cell_type": "code",
      "execution_count": null,
      "metadata": {
        "colab": {
          "base_uri": "https://localhost:8080/"
        },
        "id": "wQg9vaeuxaQg",
        "outputId": "47efd2b5-4cf0-43b5-a8c2-a9535d1622ea"
      },
      "outputs": [
        {
          "output_type": "execute_result",
          "data": {
            "text/plain": [
              "        ethnicity  icu_type  apache_2_diagnosis  d1_bun_max  d1_bun_min  \\\n",
              "0               1         7                 4.0        31.0        30.0   \n",
              "1               1         4                 4.0        11.0         9.0   \n",
              "5               1         4                 3.0        13.0        13.0   \n",
              "9               2         6                 4.0        10.0        10.0   \n",
              "10              4         4                 3.0        14.0        14.0   \n",
              "...           ...       ...                 ...         ...         ...   \n",
              "130151          5         7                 4.0         8.0         7.0   \n",
              "130153          1         5                 3.0        32.0        32.0   \n",
              "130154          5         3                 4.0        31.0        30.0   \n",
              "130155          1         4                 3.0        45.0        45.0   \n",
              "130156          5         5                 3.0        13.0        13.0   \n",
              "\n",
              "        d1_glucose_max  d1_potassium_max  diabetes_mellitus  \\\n",
              "0                168.0               4.0                  1   \n",
              "1                145.0               4.2                  1   \n",
              "5                156.0               3.9                  1   \n",
              "9                134.0               4.1                  0   \n",
              "10               158.0               4.2                  0   \n",
              "...                ...               ...                ...   \n",
              "130151           182.0               5.1                  0   \n",
              "130153           139.0               3.6                  0   \n",
              "130154           346.0               4.4                  1   \n",
              "130155           156.0               5.7                  0   \n",
              "130156           100.0               4.1                  0   \n",
              "\n",
              "        gender_FXage_group_35<age<75  gender_FXage_group_<35  ...  \\\n",
              "0                                0.0                     0.0  ...   \n",
              "1                                0.0                     0.0  ...   \n",
              "5                                0.0                     0.0  ...   \n",
              "9                                0.0                     0.0  ...   \n",
              "10                              72.0                     0.0  ...   \n",
              "...                              ...                     ...  ...   \n",
              "130151                          50.0                     0.0  ...   \n",
              "130153                           0.0                     0.0  ...   \n",
              "130154                           0.0                     0.0  ...   \n",
              "130155                           0.0                     0.0  ...   \n",
              "130156                           0.0                     0.0  ...   \n",
              "\n",
              "        gender_MXage_group_<35  gender_MXage_group_>75  \\\n",
              "0                          0.0                     0.0   \n",
              "1                          0.0                     0.0   \n",
              "5                          0.0                     0.0   \n",
              "9                          0.0                     0.0   \n",
              "10                         0.0                     0.0   \n",
              "...                        ...                     ...   \n",
              "130151                     0.0                     0.0   \n",
              "130153                     0.0                     0.0   \n",
              "130154                     0.0                     0.0   \n",
              "130155                     0.0                    81.0   \n",
              "130156                    35.0                     0.0   \n",
              "\n",
              "        gender_FXglu_group_<95  gender_FXglu_group_>95  \\\n",
              "0                          0.0                     0.0   \n",
              "1                          0.0                   128.0   \n",
              "5                          0.0                     0.0   \n",
              "9                          0.0                     0.0   \n",
              "10                         0.0                   133.0   \n",
              "...                        ...                     ...   \n",
              "130151                     0.0                   121.0   \n",
              "130153                     0.0                   139.0   \n",
              "130154                     0.0                     0.0   \n",
              "130155                     0.0                     0.0   \n",
              "130156                     0.0                     0.0   \n",
              "\n",
              "        gender_MXglu_group_<95  gender_MXglu_group_>95  \\\n",
              "0                          0.0                   109.0   \n",
              "1                          0.0                     0.0   \n",
              "5                          0.0                   125.0   \n",
              "9                          0.0                   134.0   \n",
              "10                         0.0                     0.0   \n",
              "...                        ...                     ...   \n",
              "130151                     0.0                     0.0   \n",
              "130153                     0.0                     0.0   \n",
              "130154                    55.0                     0.0   \n",
              "130155                     0.0                   137.0   \n",
              "130156                     0.0                   100.0   \n",
              "\n",
              "        gender_FXbmi_group_18>  gender_FXbmi_group_<18  \\\n",
              "0                     0.000000                     0.0   \n",
              "1                    27.421875                     0.0   \n",
              "5                     0.000000                     0.0   \n",
              "9                     0.000000                     0.0   \n",
              "10                   28.257052                     0.0   \n",
              "...                        ...                     ...   \n",
              "130151               20.324301                     0.0   \n",
              "130153               29.653433                     0.0   \n",
              "130154                0.000000                     0.0   \n",
              "130155                0.000000                     0.0   \n",
              "130156                0.000000                     0.0   \n",
              "\n",
              "        gender_MXbmi_group_18>  gender_MXbmi_group_<18  \n",
              "0                    22.732803                     0.0  \n",
              "1                     0.000000                     0.0  \n",
              "5                    27.555611                     0.0  \n",
              "9                    25.707702                     0.0  \n",
              "10                    0.000000                     0.0  \n",
              "...                        ...                     ...  \n",
              "130151                0.000000                     0.0  \n",
              "130153                0.000000                     0.0  \n",
              "130154               32.265371                     0.0  \n",
              "130155               24.408579                     0.0  \n",
              "130156               30.132358                     0.0  \n",
              "\n",
              "[97117 rows x 22 columns]"
            ],
            "text/html": [
              "\n",
              "  <div id=\"df-d5ea24e1-7fcf-4955-a5e3-2b946e918b90\">\n",
              "    <div class=\"colab-df-container\">\n",
              "      <div>\n",
              "<style scoped>\n",
              "    .dataframe tbody tr th:only-of-type {\n",
              "        vertical-align: middle;\n",
              "    }\n",
              "\n",
              "    .dataframe tbody tr th {\n",
              "        vertical-align: top;\n",
              "    }\n",
              "\n",
              "    .dataframe thead th {\n",
              "        text-align: right;\n",
              "    }\n",
              "</style>\n",
              "<table border=\"1\" class=\"dataframe\">\n",
              "  <thead>\n",
              "    <tr style=\"text-align: right;\">\n",
              "      <th></th>\n",
              "      <th>ethnicity</th>\n",
              "      <th>icu_type</th>\n",
              "      <th>apache_2_diagnosis</th>\n",
              "      <th>d1_bun_max</th>\n",
              "      <th>d1_bun_min</th>\n",
              "      <th>d1_glucose_max</th>\n",
              "      <th>d1_potassium_max</th>\n",
              "      <th>diabetes_mellitus</th>\n",
              "      <th>gender_FXage_group_35&lt;age&lt;75</th>\n",
              "      <th>gender_FXage_group_&lt;35</th>\n",
              "      <th>...</th>\n",
              "      <th>gender_MXage_group_&lt;35</th>\n",
              "      <th>gender_MXage_group_&gt;75</th>\n",
              "      <th>gender_FXglu_group_&lt;95</th>\n",
              "      <th>gender_FXglu_group_&gt;95</th>\n",
              "      <th>gender_MXglu_group_&lt;95</th>\n",
              "      <th>gender_MXglu_group_&gt;95</th>\n",
              "      <th>gender_FXbmi_group_18&gt;</th>\n",
              "      <th>gender_FXbmi_group_&lt;18</th>\n",
              "      <th>gender_MXbmi_group_18&gt;</th>\n",
              "      <th>gender_MXbmi_group_&lt;18</th>\n",
              "    </tr>\n",
              "  </thead>\n",
              "  <tbody>\n",
              "    <tr>\n",
              "      <th>0</th>\n",
              "      <td>1</td>\n",
              "      <td>7</td>\n",
              "      <td>4.0</td>\n",
              "      <td>31.0</td>\n",
              "      <td>30.0</td>\n",
              "      <td>168.0</td>\n",
              "      <td>4.0</td>\n",
              "      <td>1</td>\n",
              "      <td>0.0</td>\n",
              "      <td>0.0</td>\n",
              "      <td>...</td>\n",
              "      <td>0.0</td>\n",
              "      <td>0.0</td>\n",
              "      <td>0.0</td>\n",
              "      <td>0.0</td>\n",
              "      <td>0.0</td>\n",
              "      <td>109.0</td>\n",
              "      <td>0.000000</td>\n",
              "      <td>0.0</td>\n",
              "      <td>22.732803</td>\n",
              "      <td>0.0</td>\n",
              "    </tr>\n",
              "    <tr>\n",
              "      <th>1</th>\n",
              "      <td>1</td>\n",
              "      <td>4</td>\n",
              "      <td>4.0</td>\n",
              "      <td>11.0</td>\n",
              "      <td>9.0</td>\n",
              "      <td>145.0</td>\n",
              "      <td>4.2</td>\n",
              "      <td>1</td>\n",
              "      <td>0.0</td>\n",
              "      <td>0.0</td>\n",
              "      <td>...</td>\n",
              "      <td>0.0</td>\n",
              "      <td>0.0</td>\n",
              "      <td>0.0</td>\n",
              "      <td>128.0</td>\n",
              "      <td>0.0</td>\n",
              "      <td>0.0</td>\n",
              "      <td>27.421875</td>\n",
              "      <td>0.0</td>\n",
              "      <td>0.000000</td>\n",
              "      <td>0.0</td>\n",
              "    </tr>\n",
              "    <tr>\n",
              "      <th>5</th>\n",
              "      <td>1</td>\n",
              "      <td>4</td>\n",
              "      <td>3.0</td>\n",
              "      <td>13.0</td>\n",
              "      <td>13.0</td>\n",
              "      <td>156.0</td>\n",
              "      <td>3.9</td>\n",
              "      <td>1</td>\n",
              "      <td>0.0</td>\n",
              "      <td>0.0</td>\n",
              "      <td>...</td>\n",
              "      <td>0.0</td>\n",
              "      <td>0.0</td>\n",
              "      <td>0.0</td>\n",
              "      <td>0.0</td>\n",
              "      <td>0.0</td>\n",
              "      <td>125.0</td>\n",
              "      <td>0.000000</td>\n",
              "      <td>0.0</td>\n",
              "      <td>27.555611</td>\n",
              "      <td>0.0</td>\n",
              "    </tr>\n",
              "    <tr>\n",
              "      <th>9</th>\n",
              "      <td>2</td>\n",
              "      <td>6</td>\n",
              "      <td>4.0</td>\n",
              "      <td>10.0</td>\n",
              "      <td>10.0</td>\n",
              "      <td>134.0</td>\n",
              "      <td>4.1</td>\n",
              "      <td>0</td>\n",
              "      <td>0.0</td>\n",
              "      <td>0.0</td>\n",
              "      <td>...</td>\n",
              "      <td>0.0</td>\n",
              "      <td>0.0</td>\n",
              "      <td>0.0</td>\n",
              "      <td>0.0</td>\n",
              "      <td>0.0</td>\n",
              "      <td>134.0</td>\n",
              "      <td>0.000000</td>\n",
              "      <td>0.0</td>\n",
              "      <td>25.707702</td>\n",
              "      <td>0.0</td>\n",
              "    </tr>\n",
              "    <tr>\n",
              "      <th>10</th>\n",
              "      <td>4</td>\n",
              "      <td>4</td>\n",
              "      <td>3.0</td>\n",
              "      <td>14.0</td>\n",
              "      <td>14.0</td>\n",
              "      <td>158.0</td>\n",
              "      <td>4.2</td>\n",
              "      <td>0</td>\n",
              "      <td>72.0</td>\n",
              "      <td>0.0</td>\n",
              "      <td>...</td>\n",
              "      <td>0.0</td>\n",
              "      <td>0.0</td>\n",
              "      <td>0.0</td>\n",
              "      <td>133.0</td>\n",
              "      <td>0.0</td>\n",
              "      <td>0.0</td>\n",
              "      <td>28.257052</td>\n",
              "      <td>0.0</td>\n",
              "      <td>0.000000</td>\n",
              "      <td>0.0</td>\n",
              "    </tr>\n",
              "    <tr>\n",
              "      <th>...</th>\n",
              "      <td>...</td>\n",
              "      <td>...</td>\n",
              "      <td>...</td>\n",
              "      <td>...</td>\n",
              "      <td>...</td>\n",
              "      <td>...</td>\n",
              "      <td>...</td>\n",
              "      <td>...</td>\n",
              "      <td>...</td>\n",
              "      <td>...</td>\n",
              "      <td>...</td>\n",
              "      <td>...</td>\n",
              "      <td>...</td>\n",
              "      <td>...</td>\n",
              "      <td>...</td>\n",
              "      <td>...</td>\n",
              "      <td>...</td>\n",
              "      <td>...</td>\n",
              "      <td>...</td>\n",
              "      <td>...</td>\n",
              "      <td>...</td>\n",
              "    </tr>\n",
              "    <tr>\n",
              "      <th>130151</th>\n",
              "      <td>5</td>\n",
              "      <td>7</td>\n",
              "      <td>4.0</td>\n",
              "      <td>8.0</td>\n",
              "      <td>7.0</td>\n",
              "      <td>182.0</td>\n",
              "      <td>5.1</td>\n",
              "      <td>0</td>\n",
              "      <td>50.0</td>\n",
              "      <td>0.0</td>\n",
              "      <td>...</td>\n",
              "      <td>0.0</td>\n",
              "      <td>0.0</td>\n",
              "      <td>0.0</td>\n",
              "      <td>121.0</td>\n",
              "      <td>0.0</td>\n",
              "      <td>0.0</td>\n",
              "      <td>20.324301</td>\n",
              "      <td>0.0</td>\n",
              "      <td>0.000000</td>\n",
              "      <td>0.0</td>\n",
              "    </tr>\n",
              "    <tr>\n",
              "      <th>130153</th>\n",
              "      <td>1</td>\n",
              "      <td>5</td>\n",
              "      <td>3.0</td>\n",
              "      <td>32.0</td>\n",
              "      <td>32.0</td>\n",
              "      <td>139.0</td>\n",
              "      <td>3.6</td>\n",
              "      <td>0</td>\n",
              "      <td>0.0</td>\n",
              "      <td>0.0</td>\n",
              "      <td>...</td>\n",
              "      <td>0.0</td>\n",
              "      <td>0.0</td>\n",
              "      <td>0.0</td>\n",
              "      <td>139.0</td>\n",
              "      <td>0.0</td>\n",
              "      <td>0.0</td>\n",
              "      <td>29.653433</td>\n",
              "      <td>0.0</td>\n",
              "      <td>0.000000</td>\n",
              "      <td>0.0</td>\n",
              "    </tr>\n",
              "    <tr>\n",
              "      <th>130154</th>\n",
              "      <td>5</td>\n",
              "      <td>3</td>\n",
              "      <td>4.0</td>\n",
              "      <td>31.0</td>\n",
              "      <td>30.0</td>\n",
              "      <td>346.0</td>\n",
              "      <td>4.4</td>\n",
              "      <td>1</td>\n",
              "      <td>0.0</td>\n",
              "      <td>0.0</td>\n",
              "      <td>...</td>\n",
              "      <td>0.0</td>\n",
              "      <td>0.0</td>\n",
              "      <td>0.0</td>\n",
              "      <td>0.0</td>\n",
              "      <td>55.0</td>\n",
              "      <td>0.0</td>\n",
              "      <td>0.000000</td>\n",
              "      <td>0.0</td>\n",
              "      <td>32.265371</td>\n",
              "      <td>0.0</td>\n",
              "    </tr>\n",
              "    <tr>\n",
              "      <th>130155</th>\n",
              "      <td>1</td>\n",
              "      <td>4</td>\n",
              "      <td>3.0</td>\n",
              "      <td>45.0</td>\n",
              "      <td>45.0</td>\n",
              "      <td>156.0</td>\n",
              "      <td>5.7</td>\n",
              "      <td>0</td>\n",
              "      <td>0.0</td>\n",
              "      <td>0.0</td>\n",
              "      <td>...</td>\n",
              "      <td>0.0</td>\n",
              "      <td>81.0</td>\n",
              "      <td>0.0</td>\n",
              "      <td>0.0</td>\n",
              "      <td>0.0</td>\n",
              "      <td>137.0</td>\n",
              "      <td>0.000000</td>\n",
              "      <td>0.0</td>\n",
              "      <td>24.408579</td>\n",
              "      <td>0.0</td>\n",
              "    </tr>\n",
              "    <tr>\n",
              "      <th>130156</th>\n",
              "      <td>5</td>\n",
              "      <td>5</td>\n",
              "      <td>3.0</td>\n",
              "      <td>13.0</td>\n",
              "      <td>13.0</td>\n",
              "      <td>100.0</td>\n",
              "      <td>4.1</td>\n",
              "      <td>0</td>\n",
              "      <td>0.0</td>\n",
              "      <td>0.0</td>\n",
              "      <td>...</td>\n",
              "      <td>35.0</td>\n",
              "      <td>0.0</td>\n",
              "      <td>0.0</td>\n",
              "      <td>0.0</td>\n",
              "      <td>0.0</td>\n",
              "      <td>100.0</td>\n",
              "      <td>0.000000</td>\n",
              "      <td>0.0</td>\n",
              "      <td>30.132358</td>\n",
              "      <td>0.0</td>\n",
              "    </tr>\n",
              "  </tbody>\n",
              "</table>\n",
              "<p>97117 rows × 22 columns</p>\n",
              "</div>\n",
              "      <button class=\"colab-df-convert\" onclick=\"convertToInteractive('df-d5ea24e1-7fcf-4955-a5e3-2b946e918b90')\"\n",
              "              title=\"Convert this dataframe to an interactive table.\"\n",
              "              style=\"display:none;\">\n",
              "        \n",
              "  <svg xmlns=\"http://www.w3.org/2000/svg\" height=\"24px\"viewBox=\"0 0 24 24\"\n",
              "       width=\"24px\">\n",
              "    <path d=\"M0 0h24v24H0V0z\" fill=\"none\"/>\n",
              "    <path d=\"M18.56 5.44l.94 2.06.94-2.06 2.06-.94-2.06-.94-.94-2.06-.94 2.06-2.06.94zm-11 1L8.5 8.5l.94-2.06 2.06-.94-2.06-.94L8.5 2.5l-.94 2.06-2.06.94zm10 10l.94 2.06.94-2.06 2.06-.94-2.06-.94-.94-2.06-.94 2.06-2.06.94z\"/><path d=\"M17.41 7.96l-1.37-1.37c-.4-.4-.92-.59-1.43-.59-.52 0-1.04.2-1.43.59L10.3 9.45l-7.72 7.72c-.78.78-.78 2.05 0 2.83L4 21.41c.39.39.9.59 1.41.59.51 0 1.02-.2 1.41-.59l7.78-7.78 2.81-2.81c.8-.78.8-2.07 0-2.86zM5.41 20L4 18.59l7.72-7.72 1.47 1.35L5.41 20z\"/>\n",
              "  </svg>\n",
              "      </button>\n",
              "      \n",
              "  <style>\n",
              "    .colab-df-container {\n",
              "      display:flex;\n",
              "      flex-wrap:wrap;\n",
              "      gap: 12px;\n",
              "    }\n",
              "\n",
              "    .colab-df-convert {\n",
              "      background-color: #E8F0FE;\n",
              "      border: none;\n",
              "      border-radius: 50%;\n",
              "      cursor: pointer;\n",
              "      display: none;\n",
              "      fill: #1967D2;\n",
              "      height: 32px;\n",
              "      padding: 0 0 0 0;\n",
              "      width: 32px;\n",
              "    }\n",
              "\n",
              "    .colab-df-convert:hover {\n",
              "      background-color: #E2EBFA;\n",
              "      box-shadow: 0px 1px 2px rgba(60, 64, 67, 0.3), 0px 1px 3px 1px rgba(60, 64, 67, 0.15);\n",
              "      fill: #174EA6;\n",
              "    }\n",
              "\n",
              "    [theme=dark] .colab-df-convert {\n",
              "      background-color: #3B4455;\n",
              "      fill: #D2E3FC;\n",
              "    }\n",
              "\n",
              "    [theme=dark] .colab-df-convert:hover {\n",
              "      background-color: #434B5C;\n",
              "      box-shadow: 0px 1px 3px 1px rgba(0, 0, 0, 0.15);\n",
              "      filter: drop-shadow(0px 1px 2px rgba(0, 0, 0, 0.3));\n",
              "      fill: #FFFFFF;\n",
              "    }\n",
              "  </style>\n",
              "\n",
              "      <script>\n",
              "        const buttonEl =\n",
              "          document.querySelector('#df-d5ea24e1-7fcf-4955-a5e3-2b946e918b90 button.colab-df-convert');\n",
              "        buttonEl.style.display =\n",
              "          google.colab.kernel.accessAllowed ? 'block' : 'none';\n",
              "\n",
              "        async function convertToInteractive(key) {\n",
              "          const element = document.querySelector('#df-d5ea24e1-7fcf-4955-a5e3-2b946e918b90');\n",
              "          const dataTable =\n",
              "            await google.colab.kernel.invokeFunction('convertToInteractive',\n",
              "                                                     [key], {});\n",
              "          if (!dataTable) return;\n",
              "\n",
              "          const docLinkHtml = 'Like what you see? Visit the ' +\n",
              "            '<a target=\"_blank\" href=https://colab.research.google.com/notebooks/data_table.ipynb>data table notebook</a>'\n",
              "            + ' to learn more about interactive tables.';\n",
              "          element.innerHTML = '';\n",
              "          dataTable['output_type'] = 'display_data';\n",
              "          await google.colab.output.renderOutput(dataTable, element);\n",
              "          const docLink = document.createElement('div');\n",
              "          docLink.innerHTML = docLinkHtml;\n",
              "          element.appendChild(docLink);\n",
              "        }\n",
              "      </script>\n",
              "    </div>\n",
              "  </div>\n",
              "  "
            ]
          },
          "metadata": {},
          "execution_count": 95
        }
      ],
      "source": [
        "df_diabetes[df_diabetes.columns].drop(columns = ['gender_F',\t'gender_M'])"
      ],
      "id": "wQg9vaeuxaQg"
    },
    {
      "cell_type": "code",
      "execution_count": null,
      "metadata": {
        "id": "kX3tL-rVyAsa"
      },
      "outputs": [],
      "source": [
        "df_diabetes = pd.DataFrame(MinMaxScaler().fit_transform(df_diabetes), columns = df_diabetes.columns)"
      ],
      "id": "kX3tL-rVyAsa"
    },
    {
      "cell_type": "markdown",
      "metadata": {
        "id": "w9Gxx1Iq8iQC"
      },
      "source": [
        "# fit models"
      ],
      "id": "w9Gxx1Iq8iQC"
    },
    {
      "cell_type": "code",
      "execution_count": null,
      "metadata": {
        "id": "zcufei3xwtSq"
      },
      "outputs": [],
      "source": [
        "def cross_val(clf, clf_model_name):\n",
        "    scores = cross_val_score(clf, X_train, y_train, cv=sss, scoring='roc_auc')\n",
        "    print(\"Scores \",clf_model_name,\": \" + (k * \"{:.3f} \").format(*scores))"
      ],
      "id": "zcufei3xwtSq"
    },
    {
      "cell_type": "code",
      "execution_count": null,
      "metadata": {
        "id": "CVdCZb41wxQS"
      },
      "outputs": [],
      "source": [
        "def plot_auc(clf, clf_model_name):\n",
        "    scores_auc = clf.predict_proba(X_test)[:,1]\n",
        "    fpr, tpr, thresholds = roc_curve(y_test, scores_auc, pos_label=1)\n",
        "    res = pd.DataFrame({'FPR': fpr, 'TPR': tpr, 'Threshold': thresholds})\n",
        "    auc_score = round(roc_auc_score(y_test==1, scores_auc), 3)\n",
        "    plt.plot(fpr, tpr, 'k--',linewidth=2)\n",
        "    plt.fill_between(fpr, tpr, color='lightskyblue')\n",
        "    plt.title(f'ROC of {clf_model_name}')\n",
        "    plt.text(0.5, 0.5, f'AUC {auc_score}', size=15)\n",
        "    plt.xlabel('FPR (False Positive Rate = 1-specificity)')\n",
        "    plt.ylabel('TPR (True Positive Rate = sensitivity)')\n",
        "    plt.xlim([0, 1])\n",
        "    plt.ylim([0, 1])"
      ],
      "id": "CVdCZb41wxQS"
    },
    {
      "cell_type": "code",
      "execution_count": null,
      "metadata": {
        "id": "F3NTkvtP4FFe"
      },
      "outputs": [],
      "source": [
        "k = 3\n",
        "sss = StratifiedShuffleSplit(n_splits=k, test_size=0.2, random_state=0)"
      ],
      "id": "F3NTkvtP4FFe"
    },
    {
      "cell_type": "markdown",
      "metadata": {
        "id": "4NxY12o9zLPD"
      },
      "source": [
        "## logistic regression "
      ],
      "id": "4NxY12o9zLPD"
    },
    {
      "cell_type": "code",
      "execution_count": null,
      "metadata": {
        "colab": {
          "base_uri": "https://localhost:8080/",
          "height": 300
        },
        "id": "J8AuDW8X887A",
        "outputId": "1e460054-dc9a-4555-cca2-f1e7fe9171e7"
      },
      "outputs": [
        {
          "output_type": "execute_result",
          "data": {
            "text/plain": [
              "   ethnicity  icu_type  apache_2_diagnosis  d1_bun_max  d1_bun_min  \\\n",
              "0        0.0  0.857143                 0.6    0.329268    0.357616   \n",
              "1        0.0  0.428571                 0.6    0.085366    0.079470   \n",
              "2        0.0  0.428571                 0.4    0.109756    0.132450   \n",
              "3        0.2  0.714286                 0.6    0.073171    0.092715   \n",
              "4        0.6  0.428571                 0.4    0.121951    0.145695   \n",
              "\n",
              "   d1_glucose_max  d1_potassium_max  diabetes_mellitus  gender_F  gender_M  \\\n",
              "0        0.260274          0.346821                1.0       0.0       1.0   \n",
              "1        0.197260          0.404624                1.0       1.0       0.0   \n",
              "2        0.227397          0.317919                1.0       0.0       1.0   \n",
              "3        0.167123          0.375723                0.0       0.0       1.0   \n",
              "4        0.232877          0.404624                0.0       1.0       0.0   \n",
              "\n",
              "   ...  gender_MXage_group_<35  gender_MXage_group_>75  \\\n",
              "0  ...                     0.0                     0.0   \n",
              "1  ...                     0.0                     0.0   \n",
              "2  ...                     0.0                     0.0   \n",
              "3  ...                     0.0                     0.0   \n",
              "4  ...                     0.0                     0.0   \n",
              "\n",
              "   gender_FXglu_group_<95  gender_FXglu_group_>95  gender_MXglu_group_<95  \\\n",
              "0                     0.0                0.000000                     0.0   \n",
              "1                     0.0                0.563877                     0.0   \n",
              "2                     0.0                0.000000                     0.0   \n",
              "3                     0.0                0.000000                     0.0   \n",
              "4                     0.0                0.585903                     0.0   \n",
              "\n",
              "   gender_MXglu_group_>95  gender_FXbmi_group_18>  gender_FXbmi_group_<18  \\\n",
              "0                0.480176                0.000000                     0.0   \n",
              "1                0.000000                0.509487                     0.0   \n",
              "2                0.550661                0.000000                     0.0   \n",
              "3                0.590308                0.000000                     0.0   \n",
              "4                0.000000                0.525005                     0.0   \n",
              "\n",
              "   gender_MXbmi_group_18>  gender_MXbmi_group_<18  \n",
              "0                0.422286                     0.0  \n",
              "1                0.000000                     0.0  \n",
              "2                0.511874                     0.0  \n",
              "3                0.477548                     0.0  \n",
              "4                0.000000                     0.0  \n",
              "\n",
              "[5 rows x 24 columns]"
            ],
            "text/html": [
              "\n",
              "  <div id=\"df-9b3b34fe-7f10-47b7-8a7c-76ffc3a72a8e\">\n",
              "    <div class=\"colab-df-container\">\n",
              "      <div>\n",
              "<style scoped>\n",
              "    .dataframe tbody tr th:only-of-type {\n",
              "        vertical-align: middle;\n",
              "    }\n",
              "\n",
              "    .dataframe tbody tr th {\n",
              "        vertical-align: top;\n",
              "    }\n",
              "\n",
              "    .dataframe thead th {\n",
              "        text-align: right;\n",
              "    }\n",
              "</style>\n",
              "<table border=\"1\" class=\"dataframe\">\n",
              "  <thead>\n",
              "    <tr style=\"text-align: right;\">\n",
              "      <th></th>\n",
              "      <th>ethnicity</th>\n",
              "      <th>icu_type</th>\n",
              "      <th>apache_2_diagnosis</th>\n",
              "      <th>d1_bun_max</th>\n",
              "      <th>d1_bun_min</th>\n",
              "      <th>d1_glucose_max</th>\n",
              "      <th>d1_potassium_max</th>\n",
              "      <th>diabetes_mellitus</th>\n",
              "      <th>gender_F</th>\n",
              "      <th>gender_M</th>\n",
              "      <th>...</th>\n",
              "      <th>gender_MXage_group_&lt;35</th>\n",
              "      <th>gender_MXage_group_&gt;75</th>\n",
              "      <th>gender_FXglu_group_&lt;95</th>\n",
              "      <th>gender_FXglu_group_&gt;95</th>\n",
              "      <th>gender_MXglu_group_&lt;95</th>\n",
              "      <th>gender_MXglu_group_&gt;95</th>\n",
              "      <th>gender_FXbmi_group_18&gt;</th>\n",
              "      <th>gender_FXbmi_group_&lt;18</th>\n",
              "      <th>gender_MXbmi_group_18&gt;</th>\n",
              "      <th>gender_MXbmi_group_&lt;18</th>\n",
              "    </tr>\n",
              "  </thead>\n",
              "  <tbody>\n",
              "    <tr>\n",
              "      <th>0</th>\n",
              "      <td>0.0</td>\n",
              "      <td>0.857143</td>\n",
              "      <td>0.6</td>\n",
              "      <td>0.329268</td>\n",
              "      <td>0.357616</td>\n",
              "      <td>0.260274</td>\n",
              "      <td>0.346821</td>\n",
              "      <td>1.0</td>\n",
              "      <td>0.0</td>\n",
              "      <td>1.0</td>\n",
              "      <td>...</td>\n",
              "      <td>0.0</td>\n",
              "      <td>0.0</td>\n",
              "      <td>0.0</td>\n",
              "      <td>0.000000</td>\n",
              "      <td>0.0</td>\n",
              "      <td>0.480176</td>\n",
              "      <td>0.000000</td>\n",
              "      <td>0.0</td>\n",
              "      <td>0.422286</td>\n",
              "      <td>0.0</td>\n",
              "    </tr>\n",
              "    <tr>\n",
              "      <th>1</th>\n",
              "      <td>0.0</td>\n",
              "      <td>0.428571</td>\n",
              "      <td>0.6</td>\n",
              "      <td>0.085366</td>\n",
              "      <td>0.079470</td>\n",
              "      <td>0.197260</td>\n",
              "      <td>0.404624</td>\n",
              "      <td>1.0</td>\n",
              "      <td>1.0</td>\n",
              "      <td>0.0</td>\n",
              "      <td>...</td>\n",
              "      <td>0.0</td>\n",
              "      <td>0.0</td>\n",
              "      <td>0.0</td>\n",
              "      <td>0.563877</td>\n",
              "      <td>0.0</td>\n",
              "      <td>0.000000</td>\n",
              "      <td>0.509487</td>\n",
              "      <td>0.0</td>\n",
              "      <td>0.000000</td>\n",
              "      <td>0.0</td>\n",
              "    </tr>\n",
              "    <tr>\n",
              "      <th>2</th>\n",
              "      <td>0.0</td>\n",
              "      <td>0.428571</td>\n",
              "      <td>0.4</td>\n",
              "      <td>0.109756</td>\n",
              "      <td>0.132450</td>\n",
              "      <td>0.227397</td>\n",
              "      <td>0.317919</td>\n",
              "      <td>1.0</td>\n",
              "      <td>0.0</td>\n",
              "      <td>1.0</td>\n",
              "      <td>...</td>\n",
              "      <td>0.0</td>\n",
              "      <td>0.0</td>\n",
              "      <td>0.0</td>\n",
              "      <td>0.000000</td>\n",
              "      <td>0.0</td>\n",
              "      <td>0.550661</td>\n",
              "      <td>0.000000</td>\n",
              "      <td>0.0</td>\n",
              "      <td>0.511874</td>\n",
              "      <td>0.0</td>\n",
              "    </tr>\n",
              "    <tr>\n",
              "      <th>3</th>\n",
              "      <td>0.2</td>\n",
              "      <td>0.714286</td>\n",
              "      <td>0.6</td>\n",
              "      <td>0.073171</td>\n",
              "      <td>0.092715</td>\n",
              "      <td>0.167123</td>\n",
              "      <td>0.375723</td>\n",
              "      <td>0.0</td>\n",
              "      <td>0.0</td>\n",
              "      <td>1.0</td>\n",
              "      <td>...</td>\n",
              "      <td>0.0</td>\n",
              "      <td>0.0</td>\n",
              "      <td>0.0</td>\n",
              "      <td>0.000000</td>\n",
              "      <td>0.0</td>\n",
              "      <td>0.590308</td>\n",
              "      <td>0.000000</td>\n",
              "      <td>0.0</td>\n",
              "      <td>0.477548</td>\n",
              "      <td>0.0</td>\n",
              "    </tr>\n",
              "    <tr>\n",
              "      <th>4</th>\n",
              "      <td>0.6</td>\n",
              "      <td>0.428571</td>\n",
              "      <td>0.4</td>\n",
              "      <td>0.121951</td>\n",
              "      <td>0.145695</td>\n",
              "      <td>0.232877</td>\n",
              "      <td>0.404624</td>\n",
              "      <td>0.0</td>\n",
              "      <td>1.0</td>\n",
              "      <td>0.0</td>\n",
              "      <td>...</td>\n",
              "      <td>0.0</td>\n",
              "      <td>0.0</td>\n",
              "      <td>0.0</td>\n",
              "      <td>0.585903</td>\n",
              "      <td>0.0</td>\n",
              "      <td>0.000000</td>\n",
              "      <td>0.525005</td>\n",
              "      <td>0.0</td>\n",
              "      <td>0.000000</td>\n",
              "      <td>0.0</td>\n",
              "    </tr>\n",
              "  </tbody>\n",
              "</table>\n",
              "<p>5 rows × 24 columns</p>\n",
              "</div>\n",
              "      <button class=\"colab-df-convert\" onclick=\"convertToInteractive('df-9b3b34fe-7f10-47b7-8a7c-76ffc3a72a8e')\"\n",
              "              title=\"Convert this dataframe to an interactive table.\"\n",
              "              style=\"display:none;\">\n",
              "        \n",
              "  <svg xmlns=\"http://www.w3.org/2000/svg\" height=\"24px\"viewBox=\"0 0 24 24\"\n",
              "       width=\"24px\">\n",
              "    <path d=\"M0 0h24v24H0V0z\" fill=\"none\"/>\n",
              "    <path d=\"M18.56 5.44l.94 2.06.94-2.06 2.06-.94-2.06-.94-.94-2.06-.94 2.06-2.06.94zm-11 1L8.5 8.5l.94-2.06 2.06-.94-2.06-.94L8.5 2.5l-.94 2.06-2.06.94zm10 10l.94 2.06.94-2.06 2.06-.94-2.06-.94-.94-2.06-.94 2.06-2.06.94z\"/><path d=\"M17.41 7.96l-1.37-1.37c-.4-.4-.92-.59-1.43-.59-.52 0-1.04.2-1.43.59L10.3 9.45l-7.72 7.72c-.78.78-.78 2.05 0 2.83L4 21.41c.39.39.9.59 1.41.59.51 0 1.02-.2 1.41-.59l7.78-7.78 2.81-2.81c.8-.78.8-2.07 0-2.86zM5.41 20L4 18.59l7.72-7.72 1.47 1.35L5.41 20z\"/>\n",
              "  </svg>\n",
              "      </button>\n",
              "      \n",
              "  <style>\n",
              "    .colab-df-container {\n",
              "      display:flex;\n",
              "      flex-wrap:wrap;\n",
              "      gap: 12px;\n",
              "    }\n",
              "\n",
              "    .colab-df-convert {\n",
              "      background-color: #E8F0FE;\n",
              "      border: none;\n",
              "      border-radius: 50%;\n",
              "      cursor: pointer;\n",
              "      display: none;\n",
              "      fill: #1967D2;\n",
              "      height: 32px;\n",
              "      padding: 0 0 0 0;\n",
              "      width: 32px;\n",
              "    }\n",
              "\n",
              "    .colab-df-convert:hover {\n",
              "      background-color: #E2EBFA;\n",
              "      box-shadow: 0px 1px 2px rgba(60, 64, 67, 0.3), 0px 1px 3px 1px rgba(60, 64, 67, 0.15);\n",
              "      fill: #174EA6;\n",
              "    }\n",
              "\n",
              "    [theme=dark] .colab-df-convert {\n",
              "      background-color: #3B4455;\n",
              "      fill: #D2E3FC;\n",
              "    }\n",
              "\n",
              "    [theme=dark] .colab-df-convert:hover {\n",
              "      background-color: #434B5C;\n",
              "      box-shadow: 0px 1px 3px 1px rgba(0, 0, 0, 0.15);\n",
              "      filter: drop-shadow(0px 1px 2px rgba(0, 0, 0, 0.3));\n",
              "      fill: #FFFFFF;\n",
              "    }\n",
              "  </style>\n",
              "\n",
              "      <script>\n",
              "        const buttonEl =\n",
              "          document.querySelector('#df-9b3b34fe-7f10-47b7-8a7c-76ffc3a72a8e button.colab-df-convert');\n",
              "        buttonEl.style.display =\n",
              "          google.colab.kernel.accessAllowed ? 'block' : 'none';\n",
              "\n",
              "        async function convertToInteractive(key) {\n",
              "          const element = document.querySelector('#df-9b3b34fe-7f10-47b7-8a7c-76ffc3a72a8e');\n",
              "          const dataTable =\n",
              "            await google.colab.kernel.invokeFunction('convertToInteractive',\n",
              "                                                     [key], {});\n",
              "          if (!dataTable) return;\n",
              "\n",
              "          const docLinkHtml = 'Like what you see? Visit the ' +\n",
              "            '<a target=\"_blank\" href=https://colab.research.google.com/notebooks/data_table.ipynb>data table notebook</a>'\n",
              "            + ' to learn more about interactive tables.';\n",
              "          element.innerHTML = '';\n",
              "          dataTable['output_type'] = 'display_data';\n",
              "          await google.colab.output.renderOutput(dataTable, element);\n",
              "          const docLink = document.createElement('div');\n",
              "          docLink.innerHTML = docLinkHtml;\n",
              "          element.appendChild(docLink);\n",
              "        }\n",
              "      </script>\n",
              "    </div>\n",
              "  </div>\n",
              "  "
            ]
          },
          "metadata": {},
          "execution_count": 100
        }
      ],
      "source": [
        "df_diabetes.head()"
      ],
      "id": "J8AuDW8X887A"
    },
    {
      "cell_type": "code",
      "execution_count": null,
      "metadata": {
        "id": "MbRiRzJQzSgM"
      },
      "outputs": [],
      "source": [
        "X = df_diabetes.drop('diabetes_mellitus', axis=1)\n",
        "y = df_diabetes.diabetes_mellitus"
      ],
      "id": "MbRiRzJQzSgM"
    },
    {
      "cell_type": "code",
      "execution_count": null,
      "metadata": {
        "id": "g1j5tGgazgAB"
      },
      "outputs": [],
      "source": [
        "X_train, X_test, y_train, y_test = \\\n",
        "    train_test_split(X, y, train_size=0.7, test_size=0.3, \n",
        "                     random_state=7109179, shuffle=True, stratify=y)"
      ],
      "id": "g1j5tGgazgAB"
    },
    {
      "cell_type": "code",
      "execution_count": null,
      "metadata": {
        "id": "0onppZdnt_wq"
      },
      "outputs": [],
      "source": [
        "lr = LogisticRegression()"
      ],
      "id": "0onppZdnt_wq"
    },
    {
      "cell_type": "code",
      "execution_count": null,
      "metadata": {
        "id": "zOJ7qh8ItD6S"
      },
      "outputs": [],
      "source": [
        "param_grid = {'C': [1, 10, 100, 1000], 'class_weight' : [{0: 4, 1: 1}, {0: 1, 1: 1}]}"
      ],
      "id": "zOJ7qh8ItD6S"
    },
    {
      "cell_type": "code",
      "execution_count": null,
      "metadata": {
        "colab": {
          "base_uri": "https://localhost:8080/"
        },
        "id": "L12by17UtnQI",
        "outputId": "b578ade5-703c-47f7-a955-153bc5c3051e"
      },
      "outputs": [
        {
          "output_type": "execute_result",
          "data": {
            "text/plain": [
              "GridSearchCV(cv=StratifiedShuffleSplit(n_splits=3, random_state=0, test_size=0.2,\n",
              "            train_size=None),\n",
              "             estimator=LogisticRegression(),\n",
              "             param_grid={'C': [1, 10, 100, 1000],\n",
              "                         'class_weight': [{0: 4, 1: 1}, {0: 1, 1: 1}]},\n",
              "             scoring='roc_auc')"
            ]
          },
          "metadata": {},
          "execution_count": 107
        }
      ],
      "source": [
        "gs = GridSearchCV(lr, param_grid, cv=sss, scoring='roc_auc')\n",
        "gs.fit(X_train, y_train)"
      ],
      "id": "L12by17UtnQI"
    },
    {
      "cell_type": "code",
      "execution_count": null,
      "metadata": {
        "colab": {
          "base_uri": "https://localhost:8080/"
        },
        "id": "2EE4PoWcXNP8",
        "outputId": "fe10cd01-4586-46e2-ff8a-b2df22fd29ff"
      },
      "outputs": [
        {
          "output_type": "stream",
          "name": "stdout",
          "text": [
            "{'C': 10, 'class_weight': {0: 1, 1: 1}}\n"
          ]
        }
      ],
      "source": [
        "print(gs.best_params_)"
      ],
      "id": "2EE4PoWcXNP8"
    },
    {
      "cell_type": "code",
      "execution_count": null,
      "metadata": {
        "colab": {
          "base_uri": "https://localhost:8080/"
        },
        "id": "0qQ2MIwlVgJT",
        "outputId": "5614b4ec-88f1-4d23-9e44-befda025f3ac"
      },
      "outputs": [
        {
          "output_type": "stream",
          "name": "stdout",
          "text": [
            "[0.82261871 0.82255305 0.813061   0.8188917  0.81305236 0.82545638\n",
            " 0.82619874]\n"
          ]
        }
      ],
      "source": [
        "gs_lr = LogisticRegression(C = 10)\n",
        "scores = cross_val_score(gs_lr, X_train, y_train, cv=7, scoring='roc_auc')\n",
        "print(scores)"
      ],
      "id": "0qQ2MIwlVgJT"
    },
    {
      "cell_type": "code",
      "execution_count": null,
      "metadata": {
        "colab": {
          "base_uri": "https://localhost:8080/",
          "height": 313
        },
        "id": "sve3IGtN1rC-",
        "outputId": "00d1b230-2fbc-4c70-8e3e-cf8f2483208b"
      },
      "outputs": [
        {
          "output_type": "stream",
          "name": "stdout",
          "text": [
            "Scores  LogisticRegression : 0.823 0.828 0.814 \n"
          ]
        },
        {
          "output_type": "display_data",
          "data": {
            "text/plain": [
              "<Figure size 432x288 with 1 Axes>"
            ],
            "image/png": "[encoded data removed]"
          },
          "metadata": {
            "needs_background": "light"
          }
        }
      ],
      "source": [
        "lr = LogisticRegression(C = 10)\n",
        "lr.fit(X_train, y_train)\n",
        "cross_val(lr, 'LogisticRegression')\n",
        "plot_auc(lr, 'LogisticRegression')"
      ],
      "id": "sve3IGtN1rC-"
    },
    {
      "cell_type": "markdown",
      "metadata": {
        "id": "pSbMPT3GZVlm"
      },
      "source": [
        "## Decision Tree "
      ],
      "id": "pSbMPT3GZVlm"
    },
    {
      "cell_type": "code",
      "execution_count": null,
      "metadata": {
        "colab": {
          "base_uri": "https://localhost:8080/",
          "height": 423
        },
        "id": "HDtDLe3FZab9",
        "outputId": "4229d035-ce81-42bc-c773-52effd769293"
      },
      "outputs": [
        {
          "output_type": "execute_result",
          "data": {
            "text/plain": [
              "         age        bmi  ethnicity  icu_type  apache_2_diagnosis  d1_bun_max  \\\n",
              "0       68.0  22.732803          1         7                 4.0        31.0   \n",
              "1       77.0  27.421875          1         4                 4.0        11.0   \n",
              "5       67.0  27.555611          1         4                 3.0        13.0   \n",
              "9       50.0  25.707702          2         6                 4.0        10.0   \n",
              "10      72.0  28.257052          4         4                 3.0        14.0   \n",
              "...      ...        ...        ...       ...                 ...         ...   \n",
              "130151  50.0  20.324301          5         7                 4.0         8.0   \n",
              "130153  79.0  29.653433          1         5                 3.0        32.0   \n",
              "130154  73.0  32.265371          5         3                 4.0        31.0   \n",
              "130155  81.0  24.408579          1         4                 3.0        45.0   \n",
              "130156  35.0  30.132358          5         5                 3.0        13.0   \n",
              "\n",
              "        d1_bun_min  d1_glucose_max  d1_glucose_min  d1_potassium_max  \\\n",
              "0             30.0           168.0           109.0               4.0   \n",
              "1              9.0           145.0           128.0               4.2   \n",
              "5             13.0           156.0           125.0               3.9   \n",
              "9             10.0           134.0           134.0               4.1   \n",
              "10            14.0           158.0           133.0               4.2   \n",
              "...            ...             ...             ...               ...   \n",
              "130151         7.0           182.0           121.0               5.1   \n",
              "130153        32.0           139.0           139.0               3.6   \n",
              "130154        30.0           346.0            55.0               4.4   \n",
              "130155        45.0           156.0           137.0               5.7   \n",
              "130156        13.0           100.0           100.0               4.1   \n",
              "\n",
              "        diabetes_mellitus  gender_F  gender_M  \n",
              "0                       1         0         1  \n",
              "1                       1         1         0  \n",
              "5                       1         0         1  \n",
              "9                       0         0         1  \n",
              "10                      0         1         0  \n",
              "...                   ...       ...       ...  \n",
              "130151                  0         1         0  \n",
              "130153                  0         1         0  \n",
              "130154                  1         0         1  \n",
              "130155                  0         0         1  \n",
              "130156                  0         0         1  \n",
              "\n",
              "[97117 rows x 13 columns]"
            ],
            "text/html": [
              "\n",
              "  <div id=\"df-96e690cb-c6bb-4356-8e6e-7eac7f66f256\">\n",
              "    <div class=\"colab-df-container\">\n",
              "      <div>\n",
              "<style scoped>\n",
              "    .dataframe tbody tr th:only-of-type {\n",
              "        vertical-align: middle;\n",
              "    }\n",
              "\n",
              "    .dataframe tbody tr th {\n",
              "        vertical-align: top;\n",
              "    }\n",
              "\n",
              "    .dataframe thead th {\n",
              "        text-align: right;\n",
              "    }\n",
              "</style>\n",
              "<table border=\"1\" class=\"dataframe\">\n",
              "  <thead>\n",
              "    <tr style=\"text-align: right;\">\n",
              "      <th></th>\n",
              "      <th>age</th>\n",
              "      <th>bmi</th>\n",
              "      <th>ethnicity</th>\n",
              "      <th>icu_type</th>\n",
              "      <th>apache_2_diagnosis</th>\n",
              "      <th>d1_bun_max</th>\n",
              "      <th>d1_bun_min</th>\n",
              "      <th>d1_glucose_max</th>\n",
              "      <th>d1_glucose_min</th>\n",
              "      <th>d1_potassium_max</th>\n",
              "      <th>diabetes_mellitus</th>\n",
              "      <th>gender_F</th>\n",
              "      <th>gender_M</th>\n",
              "    </tr>\n",
              "  </thead>\n",
              "  <tbody>\n",
              "    <tr>\n",
              "      <th>0</th>\n",
              "      <td>68.0</td>\n",
              "      <td>22.732803</td>\n",
              "      <td>1</td>\n",
              "      <td>7</td>\n",
              "      <td>4.0</td>\n",
              "      <td>31.0</td>\n",
              "      <td>30.0</td>\n",
              "      <td>168.0</td>\n",
              "      <td>109.0</td>\n",
              "      <td>4.0</td>\n",
              "      <td>1</td>\n",
              "      <td>0</td>\n",
              "      <td>1</td>\n",
              "    </tr>\n",
              "    <tr>\n",
              "      <th>1</th>\n",
              "      <td>77.0</td>\n",
              "      <td>27.421875</td>\n",
              "      <td>1</td>\n",
              "      <td>4</td>\n",
              "      <td>4.0</td>\n",
              "      <td>11.0</td>\n",
              "      <td>9.0</td>\n",
              "      <td>145.0</td>\n",
              "      <td>128.0</td>\n",
              "      <td>4.2</td>\n",
              "      <td>1</td>\n",
              "      <td>1</td>\n",
              "      <td>0</td>\n",
              "    </tr>\n",
              "    <tr>\n",
              "      <th>5</th>\n",
              "      <td>67.0</td>\n",
              "      <td>27.555611</td>\n",
              "      <td>1</td>\n",
              "      <td>4</td>\n",
              "      <td>3.0</td>\n",
              "      <td>13.0</td>\n",
              "      <td>13.0</td>\n",
              "      <td>156.0</td>\n",
              "      <td>125.0</td>\n",
              "      <td>3.9</td>\n",
              "      <td>1</td>\n",
              "      <td>0</td>\n",
              "      <td>1</td>\n",
              "    </tr>\n",
              "    <tr>\n",
              "      <th>9</th>\n",
              "      <td>50.0</td>\n",
              "      <td>25.707702</td>\n",
              "      <td>2</td>\n",
              "      <td>6</td>\n",
              "      <td>4.0</td>\n",
              "      <td>10.0</td>\n",
              "      <td>10.0</td>\n",
              "      <td>134.0</td>\n",
              "      <td>134.0</td>\n",
              "      <td>4.1</td>\n",
              "      <td>0</td>\n",
              "      <td>0</td>\n",
              "      <td>1</td>\n",
              "    </tr>\n",
              "    <tr>\n",
              "      <th>10</th>\n",
              "      <td>72.0</td>\n",
              "      <td>28.257052</td>\n",
              "      <td>4</td>\n",
              "      <td>4</td>\n",
              "      <td>3.0</td>\n",
              "      <td>14.0</td>\n",
              "      <td>14.0</td>\n",
              "      <td>158.0</td>\n",
              "      <td>133.0</td>\n",
              "      <td>4.2</td>\n",
              "      <td>0</td>\n",
              "      <td>1</td>\n",
              "      <td>0</td>\n",
              "    </tr>\n",
              "    <tr>\n",
              "      <th>...</th>\n",
              "      <td>...</td>\n",
              "      <td>...</td>\n",
              "      <td>...</td>\n",
              "      <td>...</td>\n",
              "      <td>...</td>\n",
              "      <td>...</td>\n",
              "      <td>...</td>\n",
              "      <td>...</td>\n",
              "      <td>...</td>\n",
              "      <td>...</td>\n",
              "      <td>...</td>\n",
              "      <td>...</td>\n",
              "      <td>...</td>\n",
              "    </tr>\n",
              "    <tr>\n",
              "      <th>130151</th>\n",
              "      <td>50.0</td>\n",
              "      <td>20.324301</td>\n",
              "      <td>5</td>\n",
              "      <td>7</td>\n",
              "      <td>4.0</td>\n",
              "      <td>8.0</td>\n",
              "      <td>7.0</td>\n",
              "      <td>182.0</td>\n",
              "      <td>121.0</td>\n",
              "      <td>5.1</td>\n",
              "      <td>0</td>\n",
              "      <td>1</td>\n",
              "      <td>0</td>\n",
              "    </tr>\n",
              "    <tr>\n",
              "      <th>130153</th>\n",
              "      <td>79.0</td>\n",
              "      <td>29.653433</td>\n",
              "      <td>1</td>\n",
              "      <td>5</td>\n",
              "      <td>3.0</td>\n",
              "      <td>32.0</td>\n",
              "      <td>32.0</td>\n",
              "      <td>139.0</td>\n",
              "      <td>139.0</td>\n",
              "      <td>3.6</td>\n",
              "      <td>0</td>\n",
              "      <td>1</td>\n",
              "      <td>0</td>\n",
              "    </tr>\n",
              "    <tr>\n",
              "      <th>130154</th>\n",
              "      <td>73.0</td>\n",
              "      <td>32.265371</td>\n",
              "      <td>5</td>\n",
              "      <td>3</td>\n",
              "      <td>4.0</td>\n",
              "      <td>31.0</td>\n",
              "      <td>30.0</td>\n",
              "      <td>346.0</td>\n",
              "      <td>55.0</td>\n",
              "      <td>4.4</td>\n",
              "      <td>1</td>\n",
              "      <td>0</td>\n",
              "      <td>1</td>\n",
              "    </tr>\n",
              "    <tr>\n",
              "      <th>130155</th>\n",
              "      <td>81.0</td>\n",
              "      <td>24.408579</td>\n",
              "      <td>1</td>\n",
              "      <td>4</td>\n",
              "      <td>3.0</td>\n",
              "      <td>45.0</td>\n",
              "      <td>45.0</td>\n",
              "      <td>156.0</td>\n",
              "      <td>137.0</td>\n",
              "      <td>5.7</td>\n",
              "      <td>0</td>\n",
              "      <td>0</td>\n",
              "      <td>1</td>\n",
              "    </tr>\n",
              "    <tr>\n",
              "      <th>130156</th>\n",
              "      <td>35.0</td>\n",
              "      <td>30.132358</td>\n",
              "      <td>5</td>\n",
              "      <td>5</td>\n",
              "      <td>3.0</td>\n",
              "      <td>13.0</td>\n",
              "      <td>13.0</td>\n",
              "      <td>100.0</td>\n",
              "      <td>100.0</td>\n",
              "      <td>4.1</td>\n",
              "      <td>0</td>\n",
              "      <td>0</td>\n",
              "      <td>1</td>\n",
              "    </tr>\n",
              "  </tbody>\n",
              "</table>\n",
              "<p>97117 rows × 13 columns</p>\n",
              "</div>\n",
              "      <button class=\"colab-df-convert\" onclick=\"convertToInteractive('df-96e690cb-c6bb-4356-8e6e-7eac7f66f256')\"\n",
              "              title=\"Convert this dataframe to an interactive table.\"\n",
              "              style=\"display:none;\">\n",
              "        \n",
              "  <svg xmlns=\"http://www.w3.org/2000/svg\" height=\"24px\"viewBox=\"0 0 24 24\"\n",
              "       width=\"24px\">\n",
              "    <path d=\"M0 0h24v24H0V0z\" fill=\"none\"/>\n",
              "    <path d=\"M18.56 5.44l.94 2.06.94-2.06 2.06-.94-2.06-.94-.94-2.06-.94 2.06-2.06.94zm-11 1L8.5 8.5l.94-2.06 2.06-.94-2.06-.94L8.5 2.5l-.94 2.06-2.06.94zm10 10l.94 2.06.94-2.06 2.06-.94-2.06-.94-.94-2.06-.94 2.06-2.06.94z\"/><path d=\"M17.41 7.96l-1.37-1.37c-.4-.4-.92-.59-1.43-.59-.52 0-1.04.2-1.43.59L10.3 9.45l-7.72 7.72c-.78.78-.78 2.05 0 2.83L4 21.41c.39.39.9.59 1.41.59.51 0 1.02-.2 1.41-.59l7.78-7.78 2.81-2.81c.8-.78.8-2.07 0-2.86zM5.41 20L4 18.59l7.72-7.72 1.47 1.35L5.41 20z\"/>\n",
              "  </svg>\n",
              "      </button>\n",
              "      \n",
              "  <style>\n",
              "    .colab-df-container {\n",
              "      display:flex;\n",
              "      flex-wrap:wrap;\n",
              "      gap: 12px;\n",
              "    }\n",
              "\n",
              "    .colab-df-convert {\n",
              "      background-color: #E8F0FE;\n",
              "      border: none;\n",
              "      border-radius: 50%;\n",
              "      cursor: pointer;\n",
              "      display: none;\n",
              "      fill: #1967D2;\n",
              "      height: 32px;\n",
              "      padding: 0 0 0 0;\n",
              "      width: 32px;\n",
              "    }\n",
              "\n",
              "    .colab-df-convert:hover {\n",
              "      background-color: #E2EBFA;\n",
              "      box-shadow: 0px 1px 2px rgba(60, 64, 67, 0.3), 0px 1px 3px 1px rgba(60, 64, 67, 0.15);\n",
              "      fill: #174EA6;\n",
              "    }\n",
              "\n",
              "    [theme=dark] .colab-df-convert {\n",
              "      background-color: #3B4455;\n",
              "      fill: #D2E3FC;\n",
              "    }\n",
              "\n",
              "    [theme=dark] .colab-df-convert:hover {\n",
              "      background-color: #434B5C;\n",
              "      box-shadow: 0px 1px 3px 1px rgba(0, 0, 0, 0.15);\n",
              "      filter: drop-shadow(0px 1px 2px rgba(0, 0, 0, 0.3));\n",
              "      fill: #FFFFFF;\n",
              "    }\n",
              "  </style>\n",
              "\n",
              "      <script>\n",
              "        const buttonEl =\n",
              "          document.querySelector('#df-96e690cb-c6bb-4356-8e6e-7eac7f66f256 button.colab-df-convert');\n",
              "        buttonEl.style.display =\n",
              "          google.colab.kernel.accessAllowed ? 'block' : 'none';\n",
              "\n",
              "        async function convertToInteractive(key) {\n",
              "          const element = document.querySelector('#df-96e690cb-c6bb-4356-8e6e-7eac7f66f256');\n",
              "          const dataTable =\n",
              "            await google.colab.kernel.invokeFunction('convertToInteractive',\n",
              "                                                     [key], {});\n",
              "          if (!dataTable) return;\n",
              "\n",
              "          const docLinkHtml = 'Like what you see? Visit the ' +\n",
              "            '<a target=\"_blank\" href=https://colab.research.google.com/notebooks/data_table.ipynb>data table notebook</a>'\n",
              "            + ' to learn more about interactive tables.';\n",
              "          element.innerHTML = '';\n",
              "          dataTable['output_type'] = 'display_data';\n",
              "          await google.colab.output.renderOutput(dataTable, element);\n",
              "          const docLink = document.createElement('div');\n",
              "          docLink.innerHTML = docLinkHtml;\n",
              "          element.appendChild(docLink);\n",
              "        }\n",
              "      </script>\n",
              "    </div>\n",
              "  </div>\n",
              "  "
            ]
          },
          "metadata": {},
          "execution_count": 111
        }
      ],
      "source": [
        "df_diabetes_trees = pd.get_dummies(df_diabetes_trees, columns = ['gender'])\n",
        "df_diabetes_trees"
      ],
      "id": "HDtDLe3FZab9"
    },
    {
      "cell_type": "code",
      "execution_count": null,
      "metadata": {
        "id": "dImjslmeZdXD"
      },
      "outputs": [],
      "source": [
        "# df_diabetes_trees = pd.DataFrame(MinMaxScaler().fit_transform(df_diabetes_trees), columns = df_diabetes_trees.columns)\n",
        "# df_diabetes_trees.head()"
      ],
      "id": "dImjslmeZdXD"
    },
    {
      "cell_type": "code",
      "execution_count": null,
      "metadata": {
        "colab": {
          "base_uri": "https://localhost:8080/"
        },
        "id": "k_v3BI5-Zo9T",
        "outputId": "3467f8ef-b78d-4170-da85-fd977e31e761"
      },
      "outputs": [
        {
          "output_type": "stream",
          "name": "stdout",
          "text": [
            "d1_bun pca variance: [0.98526777]\n",
            "d1_glucose pca variance: [0.98526777]\n"
          ]
        }
      ],
      "source": [
        "X = df_diabetes_trees.drop(columns = ['diabetes_mellitus'])\n",
        "y = df_diabetes_trees['diabetes_mellitus']\n",
        "\n",
        "pca_d1_bun = PCA(n_components=1).fit(X[['d1_bun_max',\t'd1_bun_min']].copy())\n",
        "print(f'd1_bun pca variance: {pca_d1_bun.explained_variance_ratio_.cumsum()}')\n",
        "\n",
        "pca_d1_glucose = PCA(n_components=1).fit(X[['d1_glucose_max',\t'd1_glucose_min']].copy())\n",
        "print(f'd1_glucose pca variance: {pca_d1_bun.explained_variance_ratio_.cumsum()}')"
      ],
      "id": "k_v3BI5-Zo9T"
    },
    {
      "cell_type": "code",
      "execution_count": null,
      "metadata": {
        "id": "MManMM9OgQvn"
      },
      "outputs": [],
      "source": [
        "X_pca_d1_bun = PCA(n_components=1).fit_transform(X[['d1_bun_max',\t'd1_bun_min']])\n",
        "X_pca_d1_glucose = PCA(n_components=1).fit_transform(X[['d1_glucose_max',\t'd1_glucose_min']])\n",
        "\n",
        "X['pca_d1_bun'] = X_pca_d1_bun\n",
        "X['pca_d1_glucose'] = X_pca_d1_glucose\n",
        "\n",
        "X.drop(columns = ['d1_bun_max',\t'd1_bun_min', 'd1_glucose_max',\t'd1_glucose_min'], inplace = True)"
      ],
      "id": "MManMM9OgQvn"
    },
    {
      "cell_type": "code",
      "execution_count": null,
      "metadata": {
        "colab": {
          "base_uri": "https://localhost:8080/",
          "height": 206
        },
        "id": "LJdqd4Lb9VkX",
        "outputId": "96e37256-9b01-4242-ae7a-7e1ee2d40dd3"
      },
      "outputs": [
        {
          "output_type": "execute_result",
          "data": {
            "text/plain": [
              "     age        bmi  ethnicity  icu_type  apache_2_diagnosis  \\\n",
              "0   68.0  22.732803          1         7                 4.0   \n",
              "1   77.0  27.421875          1         4                 4.0   \n",
              "5   67.0  27.555611          1         4                 3.0   \n",
              "9   50.0  25.707702          2         6                 4.0   \n",
              "10  72.0  28.257052          4         4                 3.0   \n",
              "\n",
              "    d1_potassium_max  gender_F  gender_M  pca_d1_bun  pca_d1_glucose  \n",
              "0                4.0         0         1   12.558587        3.537039  \n",
              "1                4.2         1         0  -16.392504      -14.977573  \n",
              "5                3.9         0         1  -12.199923       -4.848944  \n",
              "9                4.1         0         1  -16.440155      -24.478394  \n",
              "10               4.2         1         0  -10.786513       -1.219071  "
            ],
            "text/html": [
              "\n",
              "  <div id=\"df-b7a61f19-7539-4dc8-82fc-2f7521dbfee1\">\n",
              "    <div class=\"colab-df-container\">\n",
              "      <div>\n",
              "<style scoped>\n",
              "    .dataframe tbody tr th:only-of-type {\n",
              "        vertical-align: middle;\n",
              "    }\n",
              "\n",
              "    .dataframe tbody tr th {\n",
              "        vertical-align: top;\n",
              "    }\n",
              "\n",
              "    .dataframe thead th {\n",
              "        text-align: right;\n",
              "    }\n",
              "</style>\n",
              "<table border=\"1\" class=\"dataframe\">\n",
              "  <thead>\n",
              "    <tr style=\"text-align: right;\">\n",
              "      <th></th>\n",
              "      <th>age</th>\n",
              "      <th>bmi</th>\n",
              "      <th>ethnicity</th>\n",
              "      <th>icu_type</th>\n",
              "      <th>apache_2_diagnosis</th>\n",
              "      <th>d1_potassium_max</th>\n",
              "      <th>gender_F</th>\n",
              "      <th>gender_M</th>\n",
              "      <th>pca_d1_bun</th>\n",
              "      <th>pca_d1_glucose</th>\n",
              "    </tr>\n",
              "  </thead>\n",
              "  <tbody>\n",
              "    <tr>\n",
              "      <th>0</th>\n",
              "      <td>68.0</td>\n",
              "      <td>22.732803</td>\n",
              "      <td>1</td>\n",
              "      <td>7</td>\n",
              "      <td>4.0</td>\n",
              "      <td>4.0</td>\n",
              "      <td>0</td>\n",
              "      <td>1</td>\n",
              "      <td>12.558587</td>\n",
              "      <td>3.537039</td>\n",
              "    </tr>\n",
              "    <tr>\n",
              "      <th>1</th>\n",
              "      <td>77.0</td>\n",
              "      <td>27.421875</td>\n",
              "      <td>1</td>\n",
              "      <td>4</td>\n",
              "      <td>4.0</td>\n",
              "      <td>4.2</td>\n",
              "      <td>1</td>\n",
              "      <td>0</td>\n",
              "      <td>-16.392504</td>\n",
              "      <td>-14.977573</td>\n",
              "    </tr>\n",
              "    <tr>\n",
              "      <th>5</th>\n",
              "      <td>67.0</td>\n",
              "      <td>27.555611</td>\n",
              "      <td>1</td>\n",
              "      <td>4</td>\n",
              "      <td>3.0</td>\n",
              "      <td>3.9</td>\n",
              "      <td>0</td>\n",
              "      <td>1</td>\n",
              "      <td>-12.199923</td>\n",
              "      <td>-4.848944</td>\n",
              "    </tr>\n",
              "    <tr>\n",
              "      <th>9</th>\n",
              "      <td>50.0</td>\n",
              "      <td>25.707702</td>\n",
              "      <td>2</td>\n",
              "      <td>6</td>\n",
              "      <td>4.0</td>\n",
              "      <td>4.1</td>\n",
              "      <td>0</td>\n",
              "      <td>1</td>\n",
              "      <td>-16.440155</td>\n",
              "      <td>-24.478394</td>\n",
              "    </tr>\n",
              "    <tr>\n",
              "      <th>10</th>\n",
              "      <td>72.0</td>\n",
              "      <td>28.257052</td>\n",
              "      <td>4</td>\n",
              "      <td>4</td>\n",
              "      <td>3.0</td>\n",
              "      <td>4.2</td>\n",
              "      <td>1</td>\n",
              "      <td>0</td>\n",
              "      <td>-10.786513</td>\n",
              "      <td>-1.219071</td>\n",
              "    </tr>\n",
              "  </tbody>\n",
              "</table>\n",
              "</div>\n",
              "      <button class=\"colab-df-convert\" onclick=\"convertToInteractive('df-b7a61f19-7539-4dc8-82fc-2f7521dbfee1')\"\n",
              "              title=\"Convert this dataframe to an interactive table.\"\n",
              "              style=\"display:none;\">\n",
              "        \n",
              "  <svg xmlns=\"http://www.w3.org/2000/svg\" height=\"24px\"viewBox=\"0 0 24 24\"\n",
              "       width=\"24px\">\n",
              "    <path d=\"M0 0h24v24H0V0z\" fill=\"none\"/>\n",
              "    <path d=\"M18.56 5.44l.94 2.06.94-2.06 2.06-.94-2.06-.94-.94-2.06-.94 2.06-2.06.94zm-11 1L8.5 8.5l.94-2.06 2.06-.94-2.06-.94L8.5 2.5l-.94 2.06-2.06.94zm10 10l.94 2.06.94-2.06 2.06-.94-2.06-.94-.94-2.06-.94 2.06-2.06.94z\"/><path d=\"M17.41 7.96l-1.37-1.37c-.4-.4-.92-.59-1.43-.59-.52 0-1.04.2-1.43.59L10.3 9.45l-7.72 7.72c-.78.78-.78 2.05 0 2.83L4 21.41c.39.39.9.59 1.41.59.51 0 1.02-.2 1.41-.59l7.78-7.78 2.81-2.81c.8-.78.8-2.07 0-2.86zM5.41 20L4 18.59l7.72-7.72 1.47 1.35L5.41 20z\"/>\n",
              "  </svg>\n",
              "      </button>\n",
              "      \n",
              "  <style>\n",
              "    .colab-df-container {\n",
              "      display:flex;\n",
              "      flex-wrap:wrap;\n",
              "      gap: 12px;\n",
              "    }\n",
              "\n",
              "    .colab-df-convert {\n",
              "      background-color: #E8F0FE;\n",
              "      border: none;\n",
              "      border-radius: 50%;\n",
              "      cursor: pointer;\n",
              "      display: none;\n",
              "      fill: #1967D2;\n",
              "      height: 32px;\n",
              "      padding: 0 0 0 0;\n",
              "      width: 32px;\n",
              "    }\n",
              "\n",
              "    .colab-df-convert:hover {\n",
              "      background-color: #E2EBFA;\n",
              "      box-shadow: 0px 1px 2px rgba(60, 64, 67, 0.3), 0px 1px 3px 1px rgba(60, 64, 67, 0.15);\n",
              "      fill: #174EA6;\n",
              "    }\n",
              "\n",
              "    [theme=dark] .colab-df-convert {\n",
              "      background-color: #3B4455;\n",
              "      fill: #D2E3FC;\n",
              "    }\n",
              "\n",
              "    [theme=dark] .colab-df-convert:hover {\n",
              "      background-color: #434B5C;\n",
              "      box-shadow: 0px 1px 3px 1px rgba(0, 0, 0, 0.15);\n",
              "      filter: drop-shadow(0px 1px 2px rgba(0, 0, 0, 0.3));\n",
              "      fill: #FFFFFF;\n",
              "    }\n",
              "  </style>\n",
              "\n",
              "      <script>\n",
              "        const buttonEl =\n",
              "          document.querySelector('#df-b7a61f19-7539-4dc8-82fc-2f7521dbfee1 button.colab-df-convert');\n",
              "        buttonEl.style.display =\n",
              "          google.colab.kernel.accessAllowed ? 'block' : 'none';\n",
              "\n",
              "        async function convertToInteractive(key) {\n",
              "          const element = document.querySelector('#df-b7a61f19-7539-4dc8-82fc-2f7521dbfee1');\n",
              "          const dataTable =\n",
              "            await google.colab.kernel.invokeFunction('convertToInteractive',\n",
              "                                                     [key], {});\n",
              "          if (!dataTable) return;\n",
              "\n",
              "          const docLinkHtml = 'Like what you see? Visit the ' +\n",
              "            '<a target=\"_blank\" href=https://colab.research.google.com/notebooks/data_table.ipynb>data table notebook</a>'\n",
              "            + ' to learn more about interactive tables.';\n",
              "          element.innerHTML = '';\n",
              "          dataTable['output_type'] = 'display_data';\n",
              "          await google.colab.output.renderOutput(dataTable, element);\n",
              "          const docLink = document.createElement('div');\n",
              "          docLink.innerHTML = docLinkHtml;\n",
              "          element.appendChild(docLink);\n",
              "        }\n",
              "      </script>\n",
              "    </div>\n",
              "  </div>\n",
              "  "
            ]
          },
          "metadata": {},
          "execution_count": 115
        }
      ],
      "source": [
        "X.head()"
      ],
      "id": "LJdqd4Lb9VkX"
    },
    {
      "cell_type": "code",
      "execution_count": null,
      "metadata": {
        "id": "SJkTBgCscBgD"
      },
      "outputs": [],
      "source": [
        "X_train, X_test, y_train, y_test = \\\n",
        "    train_test_split(X, y, train_size=0.7, test_size=0.3, \n",
        "                     random_state=111, shuffle=True, stratify=y)"
      ],
      "id": "SJkTBgCscBgD"
    },
    {
      "cell_type": "code",
      "execution_count": null,
      "metadata": {
        "colab": {
          "base_uri": "https://localhost:8080/"
        },
        "id": "Iwi9MjbCxPeG",
        "outputId": "aa8d5487-d245-40f5-f694-f609bdc863d3"
      },
      "outputs": [
        {
          "output_type": "stream",
          "name": "stdout",
          "text": [
            "Best parameters: {'class_weight': {0: 1, 1: 1}, 'criterion': 'entropy', 'max_depth': 10, 'min_samples_split': 100}\n"
          ]
        }
      ],
      "source": [
        "# grid search\n",
        "my_param_grid = {'criterion':['gini', 'entropy'], 'max_depth':[10, 15, 20], 'min_samples_split' : [2, 5, 10, 100],  'class_weight' : [{0: 4, 1: 1}, {0: 1, 1: 1}]}\n",
        "dt = DecisionTreeClassifier()\n",
        "dt_gs = GridSearchCV(dt, my_param_grid, cv=sss)\n",
        "dt_gs.fit(X_train, y_train)\n",
        "print(\"Best parameters:\", dt_gs.best_params_)"
      ],
      "id": "Iwi9MjbCxPeG"
    },
    {
      "cell_type": "code",
      "execution_count": null,
      "metadata": {
        "colab": {
          "base_uri": "https://localhost:8080/",
          "height": 313
        },
        "id": "aD6Rw0ZfyapE",
        "outputId": "1f2623e9-eca9-4c0d-ffd6-d697abe000f5"
      },
      "outputs": [
        {
          "output_type": "stream",
          "name": "stdout",
          "text": [
            "Scores  DecisionTreeClassifier : 0.793 0.791 0.794 \n"
          ]
        },
        {
          "output_type": "display_data",
          "data": {
            "text/plain": [
              "<Figure size 432x288 with 1 Axes>"
            ],
            "image/png": "[encoded data removed]"
          },
          "metadata": {
            "needs_background": "light"
          }
        }
      ],
      "source": [
        "DecisionTree = DecisionTreeClassifier(criterion='entropy', max_depth=10, min_samples_split=100)\n",
        "DecisionTree.fit(X_train, y_train)\n",
        "cross_val(DecisionTree, 'DecisionTreeClassifier')\n",
        "plot_auc(DecisionTree, 'DecisionTreeClassifier')"
      ],
      "id": "aD6Rw0ZfyapE"
    },
    {
      "cell_type": "markdown",
      "metadata": {
        "id": "X_O60C3cxIMt"
      },
      "source": [
        "## random forest"
      ],
      "id": "X_O60C3cxIMt"
    },
    {
      "cell_type": "code",
      "execution_count": null,
      "metadata": {
        "colab": {
          "base_uri": "https://localhost:8080/"
        },
        "id": "TmUUy4QRwy-x",
        "outputId": "91631fcd-0689-45d3-ec83-9e478f8a7191"
      },
      "outputs": [
        {
          "output_type": "stream",
          "name": "stdout",
          "text": [
            "Best parameters: {'criterion': 'gini', 'max_depth': 10, 'n_estimators': 150}\n"
          ]
        }
      ],
      "source": [
        "# grid search\n",
        "my_param_grid = {'n_estimators':[50, 100, 150], 'criterion':['gini', 'entropy'], 'max_depth':[10, 15, 20]}\n",
        "rf = RandomForestClassifier(random_state=4)\n",
        "rf_gs = GridSearchCV(rf, my_param_grid, cv=sss)\n",
        "rf_gs .fit(X_train, y_train)\n",
        "print(\"Best parameters:\", rf_gs.best_params_)"
      ],
      "id": "TmUUy4QRwy-x"
    },
    {
      "cell_type": "code",
      "execution_count": null,
      "metadata": {
        "colab": {
          "base_uri": "https://localhost:8080/",
          "height": 313
        },
        "id": "UkGFTRXxw10p",
        "outputId": "5e4aa00e-a55a-42cb-eb12-437ee4f741f4"
      },
      "outputs": [
        {
          "output_type": "stream",
          "name": "stdout",
          "text": [
            "Scores  RandomForest : 0.820 0.814 0.818 \n"
          ]
        },
        {
          "output_type": "display_data",
          "data": {
            "text/plain": [
              "<Figure size 432x288 with 1 Axes>"
            ],
            "image/png": "[encoded data removed]"
          },
          "metadata": {
            "needs_background": "light"
          }
        }
      ],
      "source": [
        "RandomForest = RandomForestClassifier(criterion = 'entropy', max_depth = 10, n_estimators = 150)\n",
        "RandomForest.fit(X_train, y_train)\n",
        "cross_val(RandomForest, 'RandomForest')\n",
        "plot_auc(RandomForest, 'RandomForest')"
      ],
      "id": "UkGFTRXxw10p"
    },
    {
      "cell_type": "code",
      "source": [
        "RandomForest = RandomForestClassifier(criterion = 'gini', max_depth = 10, n_estimators = 150)\n",
        "RandomForest.fit(X_train, y_train)\n",
        "cross_val(RandomForest, 'RandomForest')\n",
        "plot_auc(RandomForest, 'RandomForest')"
      ],
      "metadata": {
        "colab": {
          "base_uri": "https://localhost:8080/",
          "height": 313
        },
        "id": "8braWx6yi8Ei",
        "outputId": "a28813e6-ec05-4851-a022-af6a9d9f5f9c"
      },
      "id": "8braWx6yi8Ei",
      "execution_count": null,
      "outputs": [
        {
          "output_type": "stream",
          "name": "stdout",
          "text": [
            "Scores  RandomForest : 0.821 0.814 0.818 \n"
          ]
        },
        {
          "output_type": "display_data",
          "data": {
            "text/plain": [
              "<Figure size 432x288 with 1 Axes>"
            ],
            "image/png": "[encoded data removed]"
          },
          "metadata": {
            "needs_background": "light"
          }
        }
      ]
    },
    {
      "cell_type": "markdown",
      "metadata": {
        "id": "oLamJkpQ0Nzu"
      },
      "source": [
        "## Bagging of Random Forest"
      ],
      "id": "oLamJkpQ0Nzu"
    },
    {
      "cell_type": "code",
      "execution_count": null,
      "metadata": {
        "colab": {
          "base_uri": "https://localhost:8080/"
        },
        "id": "6HJZKliz0RNT",
        "outputId": "f240a52f-abe5-474b-85d1-a684941c32f2"
      },
      "outputs": [
        {
          "output_type": "execute_result",
          "data": {
            "text/plain": [
              "BaggingClassifier(base_estimator=RandomForestClassifier(max_depth=10,\n",
              "                                                        n_estimators=150))"
            ]
          },
          "metadata": {},
          "execution_count": 124
        }
      ],
      "source": [
        "RandomForest_bagging = BaggingClassifier(base_estimator=RandomForest)\n",
        "RandomForest_bagging.fit(X_train, y_train)"
      ],
      "id": "6HJZKliz0RNT"
    },
    {
      "cell_type": "code",
      "execution_count": null,
      "metadata": {
        "colab": {
          "base_uri": "https://localhost:8080/",
          "height": 313
        },
        "id": "fFXKCdhD6Lz2",
        "outputId": "d38f95e3-bf90-41e4-bfeb-fec77bf13b1c"
      },
      "outputs": [
        {
          "output_type": "stream",
          "name": "stdout",
          "text": [
            "Scores  BaggingRandomForest : 0.821 0.815 0.819 \n"
          ]
        },
        {
          "output_type": "display_data",
          "data": {
            "text/plain": [
              "<Figure size 432x288 with 1 Axes>"
            ],
            "image/png": "[encoded data removed]"
          },
          "metadata": {
            "needs_background": "light"
          }
        }
      ],
      "source": [
        "cross_val(RandomForest_bagging, 'BaggingRandomForest')\n",
        "plot_auc(RandomForest_bagging, 'BaggingRandomForest')"
      ],
      "id": "fFXKCdhD6Lz2"
    },
    {
      "cell_type": "markdown",
      "metadata": {
        "id": "AV-6xO_Erz9R"
      },
      "source": [
        "## Ada boost"
      ],
      "id": "AV-6xO_Erz9R"
    },
    {
      "cell_type": "code",
      "execution_count": null,
      "metadata": {
        "id": "1QpaTo9Hr4YZ"
      },
      "outputs": [],
      "source": [
        "# gread search\n",
        "my_param_grid = {'n_estimators':[100, 150, 200, 250], 'learning_rate':[0.005, 0.01, 0.015]}\n",
        "clf_adaboost = AdaBoostClassifier(base_estimator = DecisionTree)\n",
        "clf_gs = GridSearchCV(clf_adaboost, my_param_grid, cv=sss)\n",
        "clf_gs.fit(X_train, y_train)\n",
        "print(\"Best parameters:\", clf_gs.best_params_)"
      ],
      "id": "1QpaTo9Hr4YZ"
    },
    {
      "cell_type": "code",
      "execution_count": null,
      "metadata": {
        "id": "cbHS2rOLr8Ta",
        "colab": {
          "base_uri": "https://localhost:8080/",
          "height": 313
        },
        "outputId": "7c395798-ce00-441f-8157-628c535cf968"
      },
      "outputs": [
        {
          "output_type": "stream",
          "name": "stdout",
          "text": [
            "Scores  Ada boost : 0.790 0.786 0.794 \n"
          ]
        },
        {
          "output_type": "display_data",
          "data": {
            "text/plain": [
              "<Figure size 432x288 with 1 Axes>"
            ],
            "image/png": "[encoded data removed]"
          },
          "metadata": {
            "needs_background": "light"
          }
        }
      ],
      "source": [
        "clf = AdaBoostClassifier(base_estimator= DecisionTree, learning_rate=0.015, n_estimators=250)\n",
        "clf.fit(X_train, y_train)\n",
        "cross_val(clf, 'Ada boost')\n",
        "plot_auc(clf, 'Ada boost')"
      ],
      "id": "cbHS2rOLr8Ta"
    },
    {
      "cell_type": "markdown",
      "metadata": {
        "id": "OQS1JoWA9uXm"
      },
      "source": [
        "## XGBoost"
      ],
      "id": "OQS1JoWA9uXm"
    },
    {
      "cell_type": "code",
      "execution_count": null,
      "metadata": {
        "colab": {
          "base_uri": "https://localhost:8080/"
        },
        "id": "d0O4Ou4hsi3R",
        "outputId": "63b3e9b0-b11b-46c2-d9cb-f48333d42433"
      },
      "outputs": [
        {
          "output_type": "stream",
          "name": "stdout",
          "text": [
            "Best parameters: {'eval_metric': 'auc', 'learning_rate': 0.01, 'max_depth': 10, 'n_estimators': 150}\n"
          ]
        }
      ],
      "source": [
        "my_param_grid = {'n_estimators':[100, 150, 200], 'learning_rate':[0.005, 0.01], 'max_depth':[10, 15], 'eval_metric':['auc']}\n",
        "xg = XGBClassifier()\n",
        "xg_gs = GridSearchCV(xg, my_param_grid, cv=sss)\n",
        "xg_gs.fit(X_train, y_train)\n",
        "print(\"Best parameters:\", xg_gs.best_params_)"
      ],
      "id": "d0O4Ou4hsi3R"
    },
    {
      "cell_type": "code",
      "execution_count": null,
      "metadata": {
        "id": "jziXHEH49dMo",
        "colab": {
          "base_uri": "https://localhost:8080/",
          "height": 313
        },
        "outputId": "d9fbc339-7a59-48ab-c32e-9fcc3a066f28"
      },
      "outputs": [
        {
          "output_type": "stream",
          "name": "stdout",
          "text": [
            "Scores  XGBClassifier : 0.814 0.810 0.816 \n"
          ]
        },
        {
          "output_type": "display_data",
          "data": {
            "text/plain": [
              "<Figure size 432x288 with 1 Axes>"
            ],
            "image/png": "[encoded data removed]"
          },
          "metadata": {
            "needs_background": "light"
          }
        }
      ],
      "source": [
        "XG = XGBClassifier(max_depth=10, learning_rate=0.01, n_estimators=200, eval_metric='auc')\n",
        "XG.fit(X_train, y_train)\n",
        "cross_val(XG, 'XGBClassifier')\n",
        "plot_auc(XG, 'XGBClassifier')"
      ],
      "id": "jziXHEH49dMo"
    },
    {
      "cell_type": "markdown",
      "metadata": {
        "id": "fiGY1bF291fg"
      },
      "source": [
        "## LightGBM"
      ],
      "id": "fiGY1bF291fg"
    },
    {
      "cell_type": "code",
      "execution_count": null,
      "metadata": {
        "id": "zmQxl81s96Jw",
        "colab": {
          "base_uri": "https://localhost:8080/"
        },
        "outputId": "3b8c3dbe-29b3-4f1a-ac7b-41a35d2994ee"
      },
      "outputs": [
        {
          "output_type": "stream",
          "name": "stdout",
          "text": [
            "Best parameters: {'learning_rate': 0.01, 'max_depth': 15, 'metric': 'auc', 'n_estimators': 200}\n"
          ]
        }
      ],
      "source": [
        "# gread search\n",
        "my_param_grid = {'n_estimators':[100, 150, 200], 'learning_rate':[0.005, 0.01], 'max_depth':[10, 15], 'metric':['auc']}\n",
        "lgbm = LGBMClassifier()\n",
        "lgbm_gs = GridSearchCV(lgbm, my_param_grid, cv=sss)\n",
        "lgbm_gs.fit(X_train, y_train)\n",
        "print(\"Best parameters:\", lgbm_gs.best_params_)"
      ],
      "id": "zmQxl81s96Jw"
    },
    {
      "cell_type": "code",
      "execution_count": null,
      "metadata": {
        "id": "BXewaPfH-WBq",
        "colab": {
          "base_uri": "https://localhost:8080/",
          "height": 313
        },
        "outputId": "05e49e29-5910-404d-b6bd-2632b51c4244"
      },
      "outputs": [
        {
          "output_type": "stream",
          "name": "stdout",
          "text": [
            "Scores  LGBMClassifier : 0.818 0.812 0.819 \n"
          ]
        },
        {
          "output_type": "display_data",
          "data": {
            "text/plain": [
              "<Figure size 432x288 with 1 Axes>"
            ],
            "image/png": "[encoded data removed]"
          },
          "metadata": {
            "needs_background": "light"
          }
        }
      ],
      "source": [
        "LGBM = LGBMClassifier(max_depth=10, learning_rate=0.01, n_estimators=200, metric='auc')\n",
        "LGBM.fit(X_train, y_train)\n",
        "cross_val(LGBM, 'LGBMClassifier')\n",
        "plot_auc(LGBM, 'LGBMClassifier')"
      ],
      "id": "BXewaPfH-WBq"
    },
    {
      "cell_type": "markdown",
      "source": [
        "## voting"
      ],
      "metadata": {
        "id": "01vhhm6vIF4p"
      },
      "id": "01vhhm6vIF4p"
    },
    {
      "cell_type": "code",
      "source": [
        "classifiers = [('random forest', RandomForest), ('XGB', XG), ('LGBM', LGBM)]\n",
        "clf_voting = VotingClassifier(estimators=classifiers, voting='soft')\n",
        "clf_voting.fit(X_train, y_train)"
      ],
      "metadata": {
        "colab": {
          "base_uri": "https://localhost:8080/"
        },
        "id": "TJpJv98KIERz",
        "outputId": "e12c8887-063f-40e6-f49e-f4d5156d03f5"
      },
      "id": "TJpJv98KIERz",
      "execution_count": null,
      "outputs": [
        {
          "output_type": "execute_result",
          "data": {
            "text/plain": [
              "VotingClassifier(estimators=[('random forest',\n",
              "                              RandomForestClassifier(max_depth=10,\n",
              "                                                     n_estimators=150)),\n",
              "                             ('XGB',\n",
              "                              XGBClassifier(eval_metric='auc',\n",
              "                                            learning_rate=0.01, max_depth=10,\n",
              "                                            n_estimators=200)),\n",
              "                             ('LGBM',\n",
              "                              LGBMClassifier(learning_rate=0.01, max_depth=10,\n",
              "                                             metric='auc', n_estimators=200))],\n",
              "                 voting='soft')"
            ]
          },
          "metadata": {},
          "execution_count": 132
        }
      ]
    },
    {
      "cell_type": "code",
      "source": [
        "cross_val(clf_voting, 'Voting')\n",
        "plot_auc(clf_voting, 'Voting')"
      ],
      "metadata": {
        "colab": {
          "base_uri": "https://localhost:8080/",
          "height": 313
        },
        "id": "6_sbsDxlIacK",
        "outputId": "f27dc23f-f44e-4971-b69e-50acc14b2bca"
      },
      "id": "6_sbsDxlIacK",
      "execution_count": null,
      "outputs": [
        {
          "output_type": "stream",
          "name": "stdout",
          "text": [
            "Scores  Voting : 0.820 0.814 0.820 \n"
          ]
        },
        {
          "output_type": "display_data",
          "data": {
            "text/plain": [
              "<Figure size 432x288 with 1 Axes>"
            ],
            "image/png": "[encoded data removed]"
          },
          "metadata": {
            "needs_background": "light"
          }
        }
      ]
    },
    {
      "cell_type": "code",
      "source": [
        ""
      ],
      "metadata": {
        "id": "JdV7Hd6jIfw7"
      },
      "id": "JdV7Hd6jIfw7",
      "execution_count": null,
      "outputs": []
    },
    {
      "cell_type": "markdown",
      "source": [
        "# diabetes mellitus\n",
        "\n",
        "* **goal -** \n",
        "\n",
        "  Getting a rapid understanding of the context of a patient’s overall health has been particularly important during the COVID-19 pandemic as healthcare workers around the world struggle with hospitals overloaded by patients in critical condition. Intensive Care Units (ICUs) often lack verified medical histories for incoming patients. A patient in distress or a patient who is brought in confused or unresponsive may not be able to provide information about chronic conditions such as heart disease, injuries, or diabetes. Medical records may take days to transfer, especially for a patient from another medical provider or system.\n",
        "\n",
        "  Knowledge about chronic conditions such as diabetes can inform clinical decisions about patient care and ultimately improve patient outcomes.\n",
        "\n",
        "* **background -**\n",
        "\n",
        "  Diabetes mellitus is a disorder in which the amount of sugar in the blood is elevated. there are 2 main types of diabetes\n",
        "  - Type 1 diabetes:\n",
        "(formerly called insulin-dependent diabetes or juvenile-onset diabetes), the body's immune system attacks the insulin-producing cells of the pancreas, and more than 90% of them are permanently destroyed.\n",
        "\n",
        "  - Type 2 diabetes: (formerly called non–insulin-dependent diabetes or adult-onset diabetes), the pancreas often continues to produce insulin, sometimes even at higher-than-normal levels, especially early in the disease. However, the body develops resistance to the effects of insulin, so there is not enough insulin to meet the body’s needs. As type 2 diabetes progresses, the insulin-producing ability of the pancreas decreases.\n",
        "\n",
        "  - measurements which may connect to diabetes:\n",
        "\n",
        "    - high blood glucouse\n",
        "    - glycolated hemoglobin \n",
        "    - over 45 years old\n",
        "    - overweight or obese\n",
        "    -  high blood pressure and/or a lipid disorder such as high cholesterol\n",
        "    - African American, Hispanic, Asian American, or American Indian ethnicity\n",
        "\n",
        "\n",
        "\n",
        "\n",
        "\n",
        "\n",
        "\n",
        "\n",
        "\n",
        "\n"
      ],
      "metadata": {
        "id": "Sp4RXvj1PtkT"
      },
      "id": "Sp4RXvj1PtkT"
    },
    {
      "cell_type": "code",
      "source": [
        ""
      ],
      "metadata": {
        "id": "9D9xX1EBcu5A"
      },
      "id": "9D9xX1EBcu5A",
      "execution_count": null,
      "outputs": []
    }
  ],
  "metadata": {
    "colab": {
      "collapsed_sections": [
        "986031a1",
        "0d2e71df",
        "b14b3b50",
        "Hg08x52SGS3-",
        "pUht6yYGTFsB"
      ],
      "name": "logistic regression.ipynb",
      "provenance": []
    },
    "kernelspec": {
      "display_name": "Python 3",
      "language": "python",
      "name": "python3"
    },
    "language_info": {
      "codemirror_mode": {
        "name": "ipython",
        "version": 3
      },
      "file_extension": ".py",
      "mimetype": "text/x-python",
      "name": "python",
      "nbconvert_exporter": "python",
      "pygments_lexer": "ipython3",
      "version": "3.8.8"
    },
    "toc": {
      "base_numbering": 1,
      "nav_menu": {},
      "number_sections": true,
      "sideBar": true,
      "skip_h1_title": false,
      "title_cell": "Table of Contents",
      "title_sidebar": "Contents",
      "toc_cell": false,
      "toc_position": {
        "height": "calc(100% - 180px)",
        "left": "10px",
        "top": "150px",
        "width": "235.475px"
      },
      "toc_section_display": true,
      "toc_window_display": true
    }
  },
  "nbformat": 4,
  "nbformat_minor": 5
}